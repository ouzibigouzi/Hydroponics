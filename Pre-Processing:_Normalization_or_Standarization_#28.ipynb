{
 "cells": [
  {
   "attachments": {},
   "cell_type": "markdown",
   "metadata": {},
   "source": [
    "To scale the data in preparation for the neural network in image classification, standardization and normalization can be used. Pixel values are ranging between 0 and 255.\n",
    "The normalization rescales the values to a range between 0 and 1.\n",
    "The standardization assumes a gaussian distribution of the data values. The rescaling will set the mean as zero and most of the data points will fall within three standard deviations from it (range between about -3 and 3).\n",
    "\n",
    "For scaling images the ImageDataGenerator can be used. It comes from keras, which is a python library.\n",
    "The ImageDataGenerator can be called for various tasks, including scaling but also augmentation.\n",
    "It takes batches of the data and when called in the model training (using fit_generator) it will return each batch of data scaled (and/or augmentated) to the model.\n",
    "\n",
    "A normalization can be achieved by giving the command (rescale = 1.0/255.0). \n",
    "A Standadization is done via (featurewise_center = True, featurewise_std_normalization = True). For standarization the mean pixel value is substracted from all pixels and the result is divided by the standard deviation of the pixel values.\n",
    "\n",
    "Calling the ImageDataGenerator on the whole training set is called a feature-wise generator. If the statistics are calculated separately for each image, it is a sample-wise standardization.\n",
    "For feature-wise: (featurewise_center = True, featurewise_std_normalization = True)\n",
    "For sample-wise: (samplewise_center = True, samplewise_std_normalization = True)"
   ]
  },
  {
   "attachments": {},
   "cell_type": "markdown",
   "metadata": {},
   "source": [
    "Installs / Imports necessary"
   ]
  },
  {
   "cell_type": "code",
   "execution_count": null,
   "metadata": {},
   "outputs": [],
   "source": [
    "%pip install keras\n",
    "%pip install tensorflow\n",
    "\n",
    "# converts a class vector (integers) to binary class matrix \n",
    "from keras.utils import to_categorical\n",
    "# The ImageDataGenerator itself\n",
    "from keras.preprocessing.image import ImageDataGenerator\n"
   ]
  },
  {
   "attachments": {},
   "cell_type": "markdown",
   "metadata": {},
   "source": [
    "Preparing the data\n",
    "\n",
    "To start this all other preprocessing steps have to be finished and the data has to be split into train test and validation set."
   ]
  },
  {
   "cell_type": "code",
   "execution_count": null,
   "metadata": {},
   "outputs": [],
   "source": [
    "# if necessary: reshape dataset to have the correct format for the convolutional layers later (input needed is rows, cols, channel; the channel has to be created)\n",
    "width, height, channels = X_train.shape[1], X_train.shape[2], 1\n",
    "X_train = X_train.reshape((X_train.shape[0], width, height, channels))\n",
    "X_test = X_test.reshape((X_test.shape[0], width, height, channels)) \n",
    "\n",
    "# this adds a second dimension\n",
    "trainY = to_categorical(trainY)\n",
    "testY = to_categorical(testY)"
   ]
  },
  {
   "attachments": {},
   "cell_type": "markdown",
   "metadata": {},
   "source": [
    "Optional part for testing the scaling"
   ]
  },
  {
   "cell_type": "code",
   "execution_count": null,
   "metadata": {},
   "outputs": [],
   "source": [
    "print('Train min=%.3f, max=%.3f' % (X_train.min(), X_train.max()))\n",
    "print('Test min=%.3f, max=%.3f' % (X_test.min(), X_test.max()))"
   ]
  },
  {
   "attachments": {},
   "cell_type": "markdown",
   "metadata": {},
   "source": [
    "Data Scaling in time during model fit"
   ]
  },
  {
   "cell_type": "code",
   "execution_count": null,
   "metadata": {},
   "outputs": [],
   "source": [
    "# Create an ImageDataGenerator and input the chosen scaling choices (also augmentation is possible)\n",
    "# for Normalization: (rescale = 1.0/255.0)\n",
    "# for Standardization (this includes Centering): (featurewise_center = True, featurewise_std_normalization = True)\n",
    "datagen = ImageDataGenerator()\n",
    "\n",
    "# if needed (depends on scaling method), calculate for the whole training data set the statistics using the .fit() function. Later on this can be applied to test and validation data set.\n",
    "datagen.fit(X_train)\n",
    "\n",
    "# A neural network model can be fitted with the data generator by using .flow() . It retrieves an iterator which returns batches of data and passes it to the fit_generator() function.\n",
    "\n",
    "# creating the iterator, choose the wanted batch size\n",
    "train_iterator = datagen.flow(X_train, y_train, batch_size = 64)\n",
    "test_iterator = datagen.flow(X_test, y_test, batch_size = 64) \n",
    "\n",
    "# optional: creating an iterator for the validation data set (only used if a validation data set is present)\n",
    "val_iterator = datagen.flow(X_val, y_val, batch_size = 64)\n",
    "\n",
    "# Optional: confirm the scaling\n",
    "# print('Train min=%.3f, max=%.3f' % (X_train.min(), X_train.max()))\n",
    "# print('Test min=%.3f, max=%.3f' % (X_test.min(), X_test.max()))\n",
    "\n",
    "# Optional: confirm that the iterators work\n",
    "# batchX, batchy = train_iterator.next()\n",
    "# print('Batch shape=%s, min=%.3f, max=%.3f' % (batchX.shape, batchX.min(),\n",
    "#                                               batchX.max()))\n",
    "\n",
    "# fitting the model using the train_iterator for scaling in real time, choose number of epochs\n",
    "model.fit_generator(train_iterator, steps_per_epoch=len(train_iterator), epochs=5)\n",
    "\n",
    "# Optional: The model can also be evaluated\n",
    "# test_iterator = datagen.flow(X_test, y_test)\n",
    "# loss = model.evaluate_generator(test_iterator)\n"
   ]
  }
 ],
 "metadata": {
  "kernelspec": {
   "display_name": ".venv",
   "language": "python",
   "name": "python3"
  },
  "language_info": {
   "codemirror_mode": {
    "name": "ipython",
    "version": 3
   },
   "file_extension": ".py",
   "mimetype": "text/x-python",
   "name": "python",
   "nbconvert_exporter": "python",
   "pygments_lexer": "ipython3",
   "version": "3.11.3"
  },
  "orig_nbformat": 4
 },
 "nbformat": 4,
 "nbformat_minor": 2
}
