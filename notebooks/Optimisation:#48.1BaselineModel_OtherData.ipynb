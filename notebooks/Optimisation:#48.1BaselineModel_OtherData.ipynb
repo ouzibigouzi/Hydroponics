{
 "cells": [
  {
   "attachments": {},
   "cell_type": "markdown",
   "metadata": {},
   "source": [
    "This notebook includes the implemention of the baseline model 1.0 on default data (lettuce) and another, bigger data set to evaluate the influence of more data on the baseline model.\n",
    "\n",
    "1) Baseline Model 1.0 on original_dataset (e.g. Kaggle Lettuce NPK data)\n",
    "2) Baseline Model 1.0 on data (e.g. maize disease dataset) with increasing number of epochs (10, 20, 50)"
   ]
  },
  {
   "cell_type": "code",
   "execution_count": null,
   "metadata": {},
   "outputs": [],
   "source": [
    "!pip install scikit-learn"
   ]
  },
  {
   "cell_type": "code",
   "execution_count": null,
   "metadata": {},
   "outputs": [],
   "source": [
    "!pip install opencv-python"
   ]
  },
  {
   "cell_type": "code",
   "execution_count": 3,
   "metadata": {},
   "outputs": [],
   "source": [
    "from tensorflow.keras.models import Sequential\n",
    "from tensorflow.keras.layers import Conv2D, MaxPooling2D, Flatten, Dense\n",
    "import numpy as np\n",
    "from sklearn.preprocessing import MinMaxScaler\n",
    "from tensorflow.keras.utils import to_categorical\n",
    "import os\n",
    "import cv2\n",
    "from sklearn.model_selection import train_test_split\n",
    "import tensorflow as tf\n"
   ]
  },
  {
   "cell_type": "code",
   "execution_count": 5,
   "metadata": {},
   "outputs": [
    {
     "name": "stdout",
     "output_type": "stream",
     "text": [
      "Found 282 files belonging to 4 classes.\n",
      "Using 226 files for training.\n"
     ]
    }
   ],
   "source": [
    "# Define the directory path containing the images\n",
    "data_directory = \"/Users/linn/Desktop/original_dataset\"\n",
    "batch_size = 32\n",
    "image_size = (200,200)\n",
    "data = tf.keras.utils.image_dataset_from_directory(\n",
    "    data_directory,\n",
    "    batch_size=batch_size,\n",
    "    image_size = image_size,\n",
    "    shuffle=True,\n",
    "    seed=42,\n",
    "    validation_split=0.2,\n",
    "    subset=\"training\")\n"
   ]
  },
  {
   "cell_type": "code",
   "execution_count": 6,
   "metadata": {},
   "outputs": [
    {
     "name": "stdout",
     "output_type": "stream",
     "text": [
      "Class names: ['deficiency_nitrogen', 'deficiency_phosphorus', 'deficiency_potassium', 'healthy']\n"
     ]
    }
   ],
   "source": [
    "# Print the class names\n",
    "class_names = data.class_names\n",
    "print(\"Class names:\", class_names)\n"
   ]
  },
  {
   "cell_type": "code",
   "execution_count": 7,
   "metadata": {},
   "outputs": [],
   "source": [
    "# Convert labels to NumPy arrays\n",
    "X_train = np.concatenate([x for x, _ in data], axis=0)\n",
    "y_train = np.concatenate([y for _, y in data], axis=0)\n"
   ]
  },
  {
   "cell_type": "code",
   "execution_count": 8,
   "metadata": {},
   "outputs": [],
   "source": [
    "# Convert labels to one-hot encoded format\n",
    "y_train = to_categorical(y_train, num_classes=4)"
   ]
  },
  {
   "cell_type": "code",
   "execution_count": 9,
   "metadata": {},
   "outputs": [
    {
     "name": "stdout",
     "output_type": "stream",
     "text": [
      "Model: \"sequential\"\n",
      "_________________________________________________________________\n",
      " Layer (type)                Output Shape              Param #   \n",
      "=================================================================\n",
      " conv2d (Conv2D)             (None, 198, 198, 32)      896       \n",
      "                                                                 \n",
      " max_pooling2d (MaxPooling2  (None, 99, 99, 32)        0         \n",
      " D)                                                              \n",
      "                                                                 \n",
      " conv2d_1 (Conv2D)           (None, 97, 97, 64)        18496     \n",
      "                                                                 \n",
      " max_pooling2d_1 (MaxPoolin  (None, 48, 48, 64)        0         \n",
      " g2D)                                                            \n",
      "                                                                 \n",
      " conv2d_2 (Conv2D)           (None, 46, 46, 128)       73856     \n",
      "                                                                 \n",
      " max_pooling2d_2 (MaxPoolin  (None, 23, 23, 128)       0         \n",
      " g2D)                                                            \n",
      "                                                                 \n",
      " flatten (Flatten)           (None, 67712)             0         \n",
      "                                                                 \n",
      " dense (Dense)               (None, 128)               8667264   \n",
      "                                                                 \n",
      " dense_1 (Dense)             (None, 4)                 516       \n",
      "                                                                 \n",
      "=================================================================\n",
      "Total params: 8761028 (33.42 MB)\n",
      "Trainable params: 8761028 (33.42 MB)\n",
      "Non-trainable params: 0 (0.00 Byte)\n",
      "_________________________________________________________________\n"
     ]
    }
   ],
   "source": [
    "import tensorflow as tf\n",
    "from tensorflow.keras.layers import Conv2D, MaxPooling2D, Flatten, Dense\n",
    "\n",
    "# Define the baseline model architecture\n",
    "model = tf.keras.Sequential([\n",
    "    Conv2D(32, (3, 3), activation='relu', input_shape=(200, 200, 3)),\n",
    "    MaxPooling2D((2, 2)),\n",
    "    Conv2D(64, (3, 3), activation='relu'),\n",
    "    MaxPooling2D((2, 2)),\n",
    "    Conv2D(128, (3, 3), activation='relu'),\n",
    "    MaxPooling2D((2, 2)),\n",
    "    Flatten(),\n",
    "    Dense(128, activation='relu'),\n",
    "    Dense(4, activation='softmax')\n",
    "])\n",
    "\n",
    "# Compile the model\n",
    "model.compile(optimizer='adam',\n",
    "              loss='categorical_crossentropy',\n",
    "              metrics=['accuracy'])\n",
    "\n",
    "# Print the model summary\n",
    "model.summary()"
   ]
  },
  {
   "cell_type": "code",
   "execution_count": 10,
   "metadata": {},
   "outputs": [
    {
     "name": "stdout",
     "output_type": "stream",
     "text": [
      "Epoch 1/10\n",
      "8/8 [==============================] - 4s 392ms/step - loss: 324.2444 - accuracy: 0.2389\n",
      "Epoch 2/10\n",
      "8/8 [==============================] - 3s 334ms/step - loss: 5.8121 - accuracy: 0.3451\n",
      "Epoch 3/10\n",
      "8/8 [==============================] - 3s 334ms/step - loss: 1.1858 - accuracy: 0.4646\n",
      "Epoch 4/10\n",
      "8/8 [==============================] - 3s 333ms/step - loss: 0.8814 - accuracy: 0.6239\n",
      "Epoch 5/10\n",
      "8/8 [==============================] - 3s 347ms/step - loss: 0.5937 - accuracy: 0.8053\n",
      "Epoch 6/10\n",
      "8/8 [==============================] - 3s 335ms/step - loss: 0.4152 - accuracy: 0.8496\n",
      "Epoch 7/10\n",
      "8/8 [==============================] - 3s 336ms/step - loss: 0.2920 - accuracy: 0.8982\n",
      "Epoch 8/10\n",
      "8/8 [==============================] - 3s 343ms/step - loss: 0.3488 - accuracy: 0.9336\n",
      "Epoch 9/10\n",
      "8/8 [==============================] - 3s 345ms/step - loss: 0.1986 - accuracy: 0.9602\n",
      "Epoch 10/10\n",
      "8/8 [==============================] - 3s 347ms/step - loss: 0.1808 - accuracy: 0.9646\n"
     ]
    },
    {
     "data": {
      "text/plain": [
       "<keras.src.callbacks.History at 0x2aecc9650>"
      ]
     },
     "execution_count": 10,
     "metadata": {},
     "output_type": "execute_result"
    }
   ],
   "source": [
    "# Train the model\n",
    "model.fit(X_train, y_train, epochs=10)"
   ]
  },
  {
   "cell_type": "code",
   "execution_count": 11,
   "metadata": {},
   "outputs": [
    {
     "name": "stdout",
     "output_type": "stream",
     "text": [
      "Found 282 files belonging to 4 classes.\n",
      "Using 56 files for validation.\n"
     ]
    }
   ],
   "source": [
    "val_data = tf.keras.utils.image_dataset_from_directory(\n",
    "    data_directory,\n",
    "    batch_size=batch_size,\n",
    "    image_size=image_size,\n",
    "    shuffle=True,\n",
    "    seed=42,\n",
    "    validation_split=0.2,\n",
    "    subset=\"validation\"\n",
    ")"
   ]
  },
  {
   "cell_type": "code",
   "execution_count": 12,
   "metadata": {},
   "outputs": [],
   "source": [
    "# Convert labels to NumPy arrays\n",
    "X_val = np.concatenate([x for x, _ in val_data], axis=0)\n",
    "y_val = np.concatenate([y for _, y in val_data], axis=0)"
   ]
  },
  {
   "cell_type": "code",
   "execution_count": 13,
   "metadata": {},
   "outputs": [],
   "source": [
    "# Convert labels to one-hot encoded format\n",
    "y_val = to_categorical(y_val, num_classes=4)"
   ]
  },
  {
   "cell_type": "code",
   "execution_count": 14,
   "metadata": {},
   "outputs": [
    {
     "name": "stdout",
     "output_type": "stream",
     "text": [
      "2/2 [==============================] - 0s 92ms/step - loss: 3.5216 - accuracy: 0.3393\n",
      "Validation Loss: 3.521618127822876\n",
      "Validation Accuracy: 0.3392857015132904\n"
     ]
    }
   ],
   "source": [
    "# Evaluate the model on the validation data\n",
    "val_loss, val_accuracy = model.evaluate(X_val, y_val)\n",
    "print(\"Validation Loss:\", val_loss)\n",
    "print(\"Validation Accuracy:\", val_accuracy)"
   ]
  },
  {
   "attachments": {},
   "cell_type": "markdown",
   "metadata": {},
   "source": [
    "__New Data__\n",
    "\n",
    "So far the normal baseline model was used. Now the same pipeline will be used for data from another dataset. The new dataset has more images.\n"
   ]
  },
  {
   "cell_type": "code",
   "execution_count": 15,
   "metadata": {},
   "outputs": [
    {
     "name": "stdout",
     "output_type": "stream",
     "text": [
      "Found 4188 files belonging to 4 classes.\n",
      "Using 3351 files for training.\n"
     ]
    }
   ],
   "source": [
    "# Define the directory path containing the images\n",
    "data_directory = \"/Users/linn/Desktop/data\"\n",
    "batch_size = 32\n",
    "image_size = (200,200)\n",
    "data = tf.keras.utils.image_dataset_from_directory(\n",
    "    data_directory,\n",
    "    batch_size=batch_size,\n",
    "    image_size = image_size,\n",
    "    shuffle=True,\n",
    "    seed=42,\n",
    "    validation_split=0.2,\n",
    "    subset=\"training\")\n"
   ]
  },
  {
   "cell_type": "code",
   "execution_count": 16,
   "metadata": {},
   "outputs": [
    {
     "name": "stdout",
     "output_type": "stream",
     "text": [
      "Class names: ['Blight', 'Common_Rust', 'Gray_Leaf_Spot', 'Healthy']\n"
     ]
    }
   ],
   "source": [
    "# Print the class names\n",
    "class_names = data.class_names\n",
    "print(\"Class names:\", class_names)\n"
   ]
  },
  {
   "cell_type": "code",
   "execution_count": 18,
   "metadata": {},
   "outputs": [],
   "source": [
    "# Convert labels to NumPy arrays\n",
    "X_train = np.concatenate([x for x, _ in data], axis=0)\n",
    "y_train = np.concatenate([y for _, y in data], axis=0)\n"
   ]
  },
  {
   "cell_type": "code",
   "execution_count": 19,
   "metadata": {},
   "outputs": [],
   "source": [
    "# Convert labels to one-hot encoded format\n",
    "y_train = to_categorical(y_train, num_classes=4)"
   ]
  },
  {
   "cell_type": "code",
   "execution_count": 22,
   "metadata": {},
   "outputs": [
    {
     "name": "stdout",
     "output_type": "stream",
     "text": [
      "Model: \"sequential_2\"\n",
      "_________________________________________________________________\n",
      " Layer (type)                Output Shape              Param #   \n",
      "=================================================================\n",
      " conv2d_6 (Conv2D)           (None, 198, 198, 32)      896       \n",
      "                                                                 \n",
      " max_pooling2d_6 (MaxPoolin  (None, 99, 99, 32)        0         \n",
      " g2D)                                                            \n",
      "                                                                 \n",
      " conv2d_7 (Conv2D)           (None, 97, 97, 64)        18496     \n",
      "                                                                 \n",
      " max_pooling2d_7 (MaxPoolin  (None, 48, 48, 64)        0         \n",
      " g2D)                                                            \n",
      "                                                                 \n",
      " conv2d_8 (Conv2D)           (None, 46, 46, 128)       73856     \n",
      "                                                                 \n",
      " max_pooling2d_8 (MaxPoolin  (None, 23, 23, 128)       0         \n",
      " g2D)                                                            \n",
      "                                                                 \n",
      " flatten_2 (Flatten)         (None, 67712)             0         \n",
      "                                                                 \n",
      " dense_4 (Dense)             (None, 128)               8667264   \n",
      "                                                                 \n",
      " dense_5 (Dense)             (None, 4)                 516       \n",
      "                                                                 \n",
      "=================================================================\n",
      "Total params: 8761028 (33.42 MB)\n",
      "Trainable params: 8761028 (33.42 MB)\n",
      "Non-trainable params: 0 (0.00 Byte)\n",
      "_________________________________________________________________\n"
     ]
    }
   ],
   "source": [
    "import tensorflow as tf\n",
    "from tensorflow.keras.layers import Conv2D, MaxPooling2D, Flatten, Dense\n",
    "\n",
    "# Define the baseline model architecture\n",
    "model = tf.keras.Sequential([\n",
    "    Conv2D(32, (3, 3), activation='relu', input_shape=(200, 200, 3)),\n",
    "    MaxPooling2D((2, 2)),\n",
    "    Conv2D(64, (3, 3), activation='relu'),\n",
    "    MaxPooling2D((2, 2)),\n",
    "    Conv2D(128, (3, 3), activation='relu'),\n",
    "    MaxPooling2D((2, 2)),\n",
    "    Flatten(),\n",
    "    Dense(128, activation='relu'),\n",
    "    Dense(4, activation='softmax')\n",
    "])\n",
    "\n",
    "# Compile the model\n",
    "model.compile(optimizer='adam',\n",
    "              loss='categorical_crossentropy',\n",
    "              metrics=['accuracy'])\n",
    "\n",
    "# Print the model summary\n",
    "model.summary()"
   ]
  },
  {
   "cell_type": "code",
   "execution_count": 23,
   "metadata": {},
   "outputs": [
    {
     "name": "stdout",
     "output_type": "stream",
     "text": [
      "Epoch 1/10\n",
      "105/105 [==============================] - 44s 411ms/step - loss: 13.0766 - accuracy: 0.2832\n",
      "Epoch 2/10\n",
      "105/105 [==============================] - 47s 446ms/step - loss: 1.3377 - accuracy: 0.3447\n",
      "Epoch 3/10\n",
      "105/105 [==============================] - 48s 459ms/step - loss: 1.2599 - accuracy: 0.3942\n",
      "Epoch 4/10\n",
      "105/105 [==============================] - 49s 469ms/step - loss: 1.1150 - accuracy: 0.4655\n",
      "Epoch 5/10\n",
      "105/105 [==============================] - 50s 474ms/step - loss: 0.9994 - accuracy: 0.5112\n",
      "Epoch 6/10\n",
      "105/105 [==============================] - 50s 477ms/step - loss: 0.9453 - accuracy: 0.5389\n",
      "Epoch 7/10\n",
      "105/105 [==============================] - 52s 491ms/step - loss: 0.9439 - accuracy: 0.5419\n",
      "Epoch 8/10\n",
      "105/105 [==============================] - 51s 485ms/step - loss: 0.9085 - accuracy: 0.5673\n",
      "Epoch 9/10\n",
      "105/105 [==============================] - 51s 486ms/step - loss: 0.8623 - accuracy: 0.5816\n",
      "Epoch 10/10\n",
      "105/105 [==============================] - 51s 489ms/step - loss: 0.8391 - accuracy: 0.6052\n"
     ]
    }
   ],
   "source": [
    "# Train the model\n",
    "history = model.fit(X_train, y_train, epochs=10)"
   ]
  },
  {
   "cell_type": "code",
   "execution_count": 24,
   "metadata": {},
   "outputs": [
    {
     "name": "stdout",
     "output_type": "stream",
     "text": [
      "Found 4188 files belonging to 4 classes.\n",
      "Using 837 files for validation.\n"
     ]
    }
   ],
   "source": [
    "val_data = tf.keras.utils.image_dataset_from_directory(\n",
    "    data_directory,\n",
    "    batch_size=batch_size,\n",
    "    image_size=image_size,\n",
    "    shuffle=True,\n",
    "    seed=42,\n",
    "    validation_split=0.2,\n",
    "    subset=\"validation\"\n",
    ")"
   ]
  },
  {
   "cell_type": "code",
   "execution_count": 25,
   "metadata": {},
   "outputs": [],
   "source": [
    "# Convert labels to NumPy arrays\n",
    "X_val = np.concatenate([x for x, _ in val_data], axis=0)\n",
    "y_val = np.concatenate([y for _, y in val_data], axis=0)"
   ]
  },
  {
   "cell_type": "code",
   "execution_count": 26,
   "metadata": {},
   "outputs": [],
   "source": [
    "# Convert labels to one-hot encoded format\n",
    "y_val = to_categorical(y_val, num_classes=4)"
   ]
  },
  {
   "cell_type": "code",
   "execution_count": 27,
   "metadata": {},
   "outputs": [
    {
     "name": "stdout",
     "output_type": "stream",
     "text": [
      "27/27 [==============================] - 4s 129ms/step - loss: 3.0234 - accuracy: 0.2605\n",
      "Validation Loss: 3.023437023162842\n",
      "Validation Accuracy: 0.260453999042511\n"
     ]
    }
   ],
   "source": [
    "# Evaluate the model on the validation data\n",
    "val_loss, val_accuracy = model.evaluate(X_val, y_val)\n",
    "print(\"Validation Loss:\", val_loss)\n",
    "print(\"Validation Accuracy:\", val_accuracy)"
   ]
  },
  {
   "cell_type": "code",
   "execution_count": 29,
   "metadata": {},
   "outputs": [
    {
     "data": {
      "image/png": "[encoded data removed]",
      "text/plain": [
       "<Figure size 640x480 with 1 Axes>"
      ]
     },
     "metadata": {},
     "output_type": "display_data"
    },
    {
     "data": {
      "image/png": "[encoded data removed]",
      "text/plain": [
       "<Figure size 640x480 with 1 Axes>"
      ]
     },
     "metadata": {},
     "output_type": "display_data"
    }
   ],
   "source": [
    "# plotting the loss and accuracy\n",
    "import matplotlib.pyplot as plt\n",
    "# summarize history for accuracy\n",
    "plt.plot(history.history['accuracy'])\n",
    "#plt.plot(history_val[val_accuracy])\n",
    "plt.title('model accuracy standardization')\n",
    "plt.ylabel('accuracy')\n",
    "plt.xlabel('epoch')\n",
    "plt.legend(['Train'], loc='upper left')\n",
    "plt.show()\n",
    "# summarize history for loss\n",
    "plt.plot(history.history['loss'])\n",
    "#plt.plot(val_)\n",
    "plt.title('model loss standardization')\n",
    "plt.ylabel('loss')\n",
    "plt.xlabel('epoch')\n",
    "plt.legend(['Train'], loc='upper left')\n",
    "plt.show()"
   ]
  },
  {
   "attachments": {},
   "cell_type": "markdown",
   "metadata": {},
   "source": [
    "It seems that the epochs were not enough yet, will try again with more:\n"
   ]
  },
  {
   "cell_type": "code",
   "execution_count": 32,
   "metadata": {},
   "outputs": [
    {
     "name": "stdout",
     "output_type": "stream",
     "text": [
      "Model: \"sequential_4\"\n",
      "_________________________________________________________________\n",
      " Layer (type)                Output Shape              Param #   \n",
      "=================================================================\n",
      " conv2d_12 (Conv2D)          (None, 198, 198, 32)      896       \n",
      "                                                                 \n",
      " max_pooling2d_12 (MaxPooli  (None, 99, 99, 32)        0         \n",
      " ng2D)                                                           \n",
      "                                                                 \n",
      " conv2d_13 (Conv2D)          (None, 97, 97, 64)        18496     \n",
      "                                                                 \n",
      " max_pooling2d_13 (MaxPooli  (None, 48, 48, 64)        0         \n",
      " ng2D)                                                           \n",
      "                                                                 \n",
      " conv2d_14 (Conv2D)          (None, 46, 46, 128)       73856     \n",
      "                                                                 \n",
      " max_pooling2d_14 (MaxPooli  (None, 23, 23, 128)       0         \n",
      " ng2D)                                                           \n",
      "                                                                 \n",
      " flatten_4 (Flatten)         (None, 67712)             0         \n",
      "                                                                 \n",
      " dense_8 (Dense)             (None, 128)               8667264   \n",
      "                                                                 \n",
      " dense_9 (Dense)             (None, 4)                 516       \n",
      "                                                                 \n",
      "=================================================================\n",
      "Total params: 8761028 (33.42 MB)\n",
      "Trainable params: 8761028 (33.42 MB)\n",
      "Non-trainable params: 0 (0.00 Byte)\n",
      "_________________________________________________________________\n"
     ]
    }
   ],
   "source": [
    "# resetting the model\n",
    "\n",
    "# Define the baseline model architecture\n",
    "model = tf.keras.Sequential([\n",
    "    Conv2D(32, (3, 3), activation='relu', input_shape=(200, 200, 3)),\n",
    "    MaxPooling2D((2, 2)),\n",
    "    Conv2D(64, (3, 3), activation='relu'),\n",
    "    MaxPooling2D((2, 2)),\n",
    "    Conv2D(128, (3, 3), activation='relu'),\n",
    "    MaxPooling2D((2, 2)),\n",
    "    Flatten(),\n",
    "    Dense(128, activation='relu'),\n",
    "    Dense(4, activation='softmax')\n",
    "])\n",
    "\n",
    "# Compile the model\n",
    "model.compile(optimizer='adam',\n",
    "              loss='categorical_crossentropy',\n",
    "              metrics=['accuracy'])\n",
    "\n",
    "# Print the model summary\n",
    "model.summary()"
   ]
  },
  {
   "cell_type": "code",
   "execution_count": 33,
   "metadata": {},
   "outputs": [
    {
     "name": "stdout",
     "output_type": "stream",
     "text": [
      "Epoch 1/20\n",
      "105/105 [==============================] - 44s 407ms/step - loss: 26.3719 - accuracy: 0.3005\n",
      "Epoch 2/20\n",
      "105/105 [==============================] - 47s 443ms/step - loss: 1.3339 - accuracy: 0.3465\n",
      "Epoch 3/20\n",
      "105/105 [==============================] - 49s 471ms/step - loss: 1.2495 - accuracy: 0.3945\n",
      "Epoch 4/20\n",
      "105/105 [==============================] - 50s 479ms/step - loss: 1.1346 - accuracy: 0.4527\n",
      "Epoch 5/20\n",
      "105/105 [==============================] - 51s 484ms/step - loss: 1.0169 - accuracy: 0.5001\n",
      "Epoch 6/20\n",
      "105/105 [==============================] - 51s 485ms/step - loss: 0.9645 - accuracy: 0.5246\n",
      "Epoch 7/20\n",
      "105/105 [==============================] - 56s 533ms/step - loss: 0.9398 - accuracy: 0.5312\n",
      "Epoch 8/20\n",
      "105/105 [==============================] - 55s 520ms/step - loss: 0.9435 - accuracy: 0.5351\n",
      "Epoch 9/20\n",
      "105/105 [==============================] - 61s 581ms/step - loss: 0.9593 - accuracy: 0.5386\n",
      "Epoch 10/20\n",
      "105/105 [==============================] - 57s 543ms/step - loss: 0.9222 - accuracy: 0.5500\n",
      "Epoch 11/20\n",
      "105/105 [==============================] - 60s 569ms/step - loss: 0.8862 - accuracy: 0.5658\n",
      "Epoch 12/20\n",
      "105/105 [==============================] - 63s 599ms/step - loss: 0.8650 - accuracy: 0.5792\n",
      "Epoch 13/20\n",
      "105/105 [==============================] - 66s 625ms/step - loss: 0.8924 - accuracy: 0.5703\n",
      "Epoch 14/20\n",
      "105/105 [==============================] - 61s 584ms/step - loss: 0.9073 - accuracy: 0.5742\n",
      "Epoch 15/20\n",
      "105/105 [==============================] - 64s 611ms/step - loss: 0.8598 - accuracy: 0.5843\n",
      "Epoch 16/20\n",
      "105/105 [==============================] - 63s 603ms/step - loss: 0.8579 - accuracy: 0.6022\n",
      "Epoch 17/20\n",
      "105/105 [==============================] - 63s 598ms/step - loss: 0.7872 - accuracy: 0.6264\n",
      "Epoch 18/20\n",
      "105/105 [==============================] - 64s 605ms/step - loss: 0.7300 - accuracy: 0.6544\n",
      "Epoch 19/20\n",
      "105/105 [==============================] - 64s 609ms/step - loss: 0.7157 - accuracy: 0.6652\n",
      "Epoch 20/20\n",
      "105/105 [==============================] - 66s 624ms/step - loss: 0.7728 - accuracy: 0.6729\n"
     ]
    }
   ],
   "source": [
    "# Train the model\n",
    "history = model.fit(X_train, y_train, epochs=20)"
   ]
  },
  {
   "cell_type": "code",
   "execution_count": 34,
   "metadata": {},
   "outputs": [
    {
     "name": "stdout",
     "output_type": "stream",
     "text": [
      "Found 4188 files belonging to 4 classes.\n",
      "Using 837 files for validation.\n"
     ]
    }
   ],
   "source": [
    "val_data = tf.keras.utils.image_dataset_from_directory(\n",
    "    data_directory,\n",
    "    batch_size=batch_size,\n",
    "    image_size=image_size,\n",
    "    shuffle=True,\n",
    "    seed=42,\n",
    "    validation_split=0.2,\n",
    "    subset=\"validation\"\n",
    ")"
   ]
  },
  {
   "cell_type": "code",
   "execution_count": 37,
   "metadata": {},
   "outputs": [],
   "source": [
    "# Convert labels to NumPy arrays\n",
    "X_val = np.concatenate([x for x, _ in val_data], axis=0)\n",
    "y_val = np.concatenate([y for _, y in val_data], axis=0)"
   ]
  },
  {
   "cell_type": "code",
   "execution_count": 38,
   "metadata": {},
   "outputs": [],
   "source": [
    "# Convert labels to one-hot encoded format\n",
    "y_val = to_categorical(y_val, num_classes=4)"
   ]
  },
  {
   "cell_type": "code",
   "execution_count": 39,
   "metadata": {},
   "outputs": [
    {
     "name": "stdout",
     "output_type": "stream",
     "text": [
      "27/27 [==============================] - 3s 121ms/step - loss: 5.3813 - accuracy: 0.3011\n",
      "Validation Loss: 5.3812713623046875\n",
      "Validation Accuracy: 0.301075279712677\n"
     ]
    }
   ],
   "source": [
    "# Evaluate the model on the validation data\n",
    "val_loss, val_accuracy = model.evaluate(X_val, y_val)\n",
    "print(\"Validation Loss:\", val_loss)\n",
    "print(\"Validation Accuracy:\", val_accuracy)"
   ]
  },
  {
   "cell_type": "code",
   "execution_count": 40,
   "metadata": {},
   "outputs": [
    {
     "data": {
      "image/png": "[encoded data removed]",
      "text/plain": [
       "<Figure size 640x480 with 1 Axes>"
      ]
     },
     "metadata": {},
     "output_type": "display_data"
    },
    {
     "data": {
      "image/png": "[encoded data removed]",
      "text/plain": [
       "<Figure size 640x480 with 1 Axes>"
      ]
     },
     "metadata": {},
     "output_type": "display_data"
    }
   ],
   "source": [
    "# plotting the loss and accuracy\n",
    "import matplotlib.pyplot as plt\n",
    "# summarize history for accuracy\n",
    "plt.plot(history.history['accuracy'])\n",
    "#plt.plot(history_val[val_accuracy])\n",
    "plt.title('model accuracy standardization')\n",
    "plt.ylabel('accuracy')\n",
    "plt.xlabel('epoch')\n",
    "plt.legend(['Train'], loc='upper left')\n",
    "plt.show()\n",
    "# summarize history for loss\n",
    "plt.plot(history.history['loss'])\n",
    "#plt.plot(val_)\n",
    "plt.title('model loss standardization')\n",
    "plt.ylabel('loss')\n",
    "plt.xlabel('epoch')\n",
    "plt.legend(['Train'], loc='upper left')\n",
    "plt.show()"
   ]
  },
  {
   "attachments": {},
   "cell_type": "markdown",
   "metadata": {},
   "source": [
    "The model accuracy seems to still be rising at 20 epochs. In the next step the code will run with 50 epochs."
   ]
  },
  {
   "cell_type": "code",
   "execution_count": 41,
   "metadata": {},
   "outputs": [
    {
     "name": "stdout",
     "output_type": "stream",
     "text": [
      "Model: \"sequential_5\"\n",
      "_________________________________________________________________\n",
      " Layer (type)                Output Shape              Param #   \n",
      "=================================================================\n",
      " conv2d_15 (Conv2D)          (None, 198, 198, 32)      896       \n",
      "                                                                 \n",
      " max_pooling2d_15 (MaxPooli  (None, 99, 99, 32)        0         \n",
      " ng2D)                                                           \n",
      "                                                                 \n",
      " conv2d_16 (Conv2D)          (None, 97, 97, 64)        18496     \n",
      "                                                                 \n",
      " max_pooling2d_16 (MaxPooli  (None, 48, 48, 64)        0         \n",
      " ng2D)                                                           \n",
      "                                                                 \n",
      " conv2d_17 (Conv2D)          (None, 46, 46, 128)       73856     \n",
      "                                                                 \n",
      " max_pooling2d_17 (MaxPooli  (None, 23, 23, 128)       0         \n",
      " ng2D)                                                           \n",
      "                                                                 \n",
      " flatten_5 (Flatten)         (None, 67712)             0         \n",
      "                                                                 \n",
      " dense_10 (Dense)            (None, 128)               8667264   \n",
      "                                                                 \n",
      " dense_11 (Dense)            (None, 4)                 516       \n",
      "                                                                 \n",
      "=================================================================\n",
      "Total params: 8761028 (33.42 MB)\n",
      "Trainable params: 8761028 (33.42 MB)\n",
      "Non-trainable params: 0 (0.00 Byte)\n",
      "_________________________________________________________________\n"
     ]
    }
   ],
   "source": [
    "# resetting the model\n",
    "\n",
    "# Define the baseline model architecture\n",
    "model = tf.keras.Sequential([\n",
    "    Conv2D(32, (3, 3), activation='relu', input_shape=(200, 200, 3)),\n",
    "    MaxPooling2D((2, 2)),\n",
    "    Conv2D(64, (3, 3), activation='relu'),\n",
    "    MaxPooling2D((2, 2)),\n",
    "    Conv2D(128, (3, 3), activation='relu'),\n",
    "    MaxPooling2D((2, 2)),\n",
    "    Flatten(),\n",
    "    Dense(128, activation='relu'),\n",
    "    Dense(4, activation='softmax')\n",
    "])\n",
    "\n",
    "# Compile the model\n",
    "model.compile(optimizer='adam',\n",
    "              loss='categorical_crossentropy',\n",
    "              metrics=['accuracy'])\n",
    "\n",
    "# Print the model summary\n",
    "model.summary()"
   ]
  },
  {
   "cell_type": "code",
   "execution_count": 42,
   "metadata": {},
   "outputs": [
    {
     "name": "stdout",
     "output_type": "stream",
     "text": [
      "Epoch 1/50\n",
      "105/105 [==============================] - 49s 462ms/step - loss: 28.2058 - accuracy: 0.3014\n",
      "Epoch 2/50\n",
      "105/105 [==============================] - 63s 597ms/step - loss: 1.3215 - accuracy: 0.3489\n",
      "Epoch 3/50\n",
      "105/105 [==============================] - 59s 565ms/step - loss: 1.2369 - accuracy: 0.3963\n",
      "Epoch 4/50\n",
      "105/105 [==============================] - 52s 492ms/step - loss: 1.0864 - accuracy: 0.4697\n",
      "Epoch 5/50\n",
      "105/105 [==============================] - 53s 503ms/step - loss: 1.0048 - accuracy: 0.5025\n",
      "Epoch 6/50\n",
      "105/105 [==============================] - 53s 502ms/step - loss: 0.9678 - accuracy: 0.5225\n",
      "Epoch 7/50\n",
      "105/105 [==============================] - 55s 525ms/step - loss: 0.9495 - accuracy: 0.5282\n",
      "Epoch 8/50\n",
      "105/105 [==============================] - 60s 572ms/step - loss: 0.9332 - accuracy: 0.5401\n",
      "Epoch 9/50\n",
      "105/105 [==============================] - 62s 593ms/step - loss: 0.9093 - accuracy: 0.5506\n",
      "Epoch 10/50\n",
      "105/105 [==============================] - 65s 614ms/step - loss: 0.9246 - accuracy: 0.5506\n",
      "Epoch 11/50\n",
      "105/105 [==============================] - 66s 629ms/step - loss: 0.9616 - accuracy: 0.5425\n",
      "Epoch 12/50\n",
      "105/105 [==============================] - 67s 639ms/step - loss: 0.9142 - accuracy: 0.5527\n",
      "Epoch 13/50\n",
      "105/105 [==============================] - 68s 644ms/step - loss: 0.8662 - accuracy: 0.5798\n",
      "Epoch 14/50\n",
      "105/105 [==============================] - 70s 662ms/step - loss: 0.8399 - accuracy: 0.5876\n",
      "Epoch 15/50\n",
      "105/105 [==============================] - 78s 739ms/step - loss: 0.8639 - accuracy: 0.5968\n",
      "Epoch 16/50\n",
      "105/105 [==============================] - 74s 701ms/step - loss: 0.8388 - accuracy: 0.6022\n",
      "Epoch 17/50\n",
      "105/105 [==============================] - 70s 663ms/step - loss: 0.8056 - accuracy: 0.6204\n",
      "Epoch 18/50\n",
      "105/105 [==============================] - 69s 660ms/step - loss: 0.7661 - accuracy: 0.6392\n",
      "Epoch 19/50\n",
      "105/105 [==============================] - 70s 662ms/step - loss: 0.7446 - accuracy: 0.6488\n",
      "Epoch 20/50\n",
      "105/105 [==============================] - 70s 665ms/step - loss: 0.7387 - accuracy: 0.6646\n",
      "Epoch 21/50\n",
      "105/105 [==============================] - 79s 750ms/step - loss: 0.7586 - accuracy: 0.6652\n",
      "Epoch 22/50\n",
      "105/105 [==============================] - 74s 703ms/step - loss: 0.6887 - accuracy: 0.6980\n",
      "Epoch 23/50\n",
      "105/105 [==============================] - 73s 698ms/step - loss: 0.6271 - accuracy: 0.7159\n",
      "Epoch 24/50\n",
      "105/105 [==============================] - 80s 763ms/step - loss: 0.5862 - accuracy: 0.7326\n",
      "Epoch 25/50\n",
      "105/105 [==============================] - 81s 768ms/step - loss: 0.5333 - accuracy: 0.7610\n",
      "Epoch 26/50\n",
      "105/105 [==============================] - 70s 669ms/step - loss: 0.4674 - accuracy: 0.7932\n",
      "Epoch 27/50\n",
      "105/105 [==============================] - 70s 661ms/step - loss: 0.4265 - accuracy: 0.8114\n",
      "Epoch 28/50\n",
      "105/105 [==============================] - 70s 663ms/step - loss: 0.3867 - accuracy: 0.8290\n",
      "Epoch 29/50\n",
      "105/105 [==============================] - 70s 662ms/step - loss: 0.4110 - accuracy: 0.8311\n",
      "Epoch 30/50\n",
      "105/105 [==============================] - 68s 652ms/step - loss: 0.4006 - accuracy: 0.8484\n",
      "Epoch 31/50\n",
      "105/105 [==============================] - 69s 660ms/step - loss: 0.4134 - accuracy: 0.8490\n",
      "Epoch 32/50\n",
      "105/105 [==============================] - 72s 687ms/step - loss: 0.3351 - accuracy: 0.8615\n",
      "Epoch 33/50\n",
      "105/105 [==============================] - 82s 783ms/step - loss: 0.5011 - accuracy: 0.7893\n",
      "Epoch 34/50\n",
      "105/105 [==============================] - 74s 704ms/step - loss: 0.5656 - accuracy: 0.7517\n",
      "Epoch 35/50\n",
      "105/105 [==============================] - 69s 660ms/step - loss: 0.3094 - accuracy: 0.8669\n",
      "Epoch 36/50\n",
      "105/105 [==============================] - 69s 654ms/step - loss: 0.2823 - accuracy: 0.8830\n",
      "Epoch 37/50\n",
      "105/105 [==============================] - 69s 657ms/step - loss: 0.2465 - accuracy: 0.8935\n",
      "Epoch 38/50\n",
      "105/105 [==============================] - 70s 664ms/step - loss: 0.2881 - accuracy: 0.8959\n",
      "Epoch 39/50\n",
      "105/105 [==============================] - 70s 669ms/step - loss: 0.2507 - accuracy: 0.9000\n",
      "Epoch 40/50\n",
      "105/105 [==============================] - 70s 671ms/step - loss: 0.2504 - accuracy: 0.9027\n",
      "Epoch 41/50\n",
      "105/105 [==============================] - 71s 674ms/step - loss: 0.2410 - accuracy: 0.9063\n",
      "Epoch 42/50\n",
      "105/105 [==============================] - 85s 813ms/step - loss: 0.2392 - accuracy: 0.9066\n",
      "Epoch 43/50\n",
      "105/105 [==============================] - 89s 851ms/step - loss: 0.1891 - accuracy: 0.9155\n",
      "Epoch 44/50\n",
      "105/105 [==============================] - 87s 825ms/step - loss: 0.1804 - accuracy: 0.9215\n",
      "Epoch 45/50\n",
      "105/105 [==============================] - 72s 688ms/step - loss: 0.1734 - accuracy: 0.9245\n",
      "Epoch 46/50\n",
      "105/105 [==============================] - 69s 655ms/step - loss: 0.1552 - accuracy: 0.9326\n",
      "Epoch 47/50\n",
      "105/105 [==============================] - 72s 684ms/step - loss: 0.1560 - accuracy: 0.9323\n",
      "Epoch 48/50\n",
      "105/105 [==============================] - 78s 744ms/step - loss: 0.1581 - accuracy: 0.9346\n",
      "Epoch 49/50\n",
      "105/105 [==============================] - 83s 790ms/step - loss: 0.1427 - accuracy: 0.9424\n",
      "Epoch 50/50\n",
      "105/105 [==============================] - 102s 971ms/step - loss: 0.1997 - accuracy: 0.9257\n"
     ]
    }
   ],
   "source": [
    "# Train the model\n",
    "history = model.fit(X_train, y_train, epochs=50)"
   ]
  },
  {
   "cell_type": "code",
   "execution_count": 43,
   "metadata": {},
   "outputs": [
    {
     "name": "stdout",
     "output_type": "stream",
     "text": [
      "Found 4188 files belonging to 4 classes.\n",
      "Using 837 files for validation.\n"
     ]
    }
   ],
   "source": [
    "val_data = tf.keras.utils.image_dataset_from_directory(\n",
    "    data_directory,\n",
    "    batch_size=batch_size,\n",
    "    image_size=image_size,\n",
    "    shuffle=True,\n",
    "    seed=42,\n",
    "    validation_split=0.2,\n",
    "    subset=\"validation\"\n",
    ")\n"
   ]
  },
  {
   "cell_type": "code",
   "execution_count": 44,
   "metadata": {},
   "outputs": [],
   "source": [
    "# Convert labels to NumPy arrays\n",
    "X_val = np.concatenate([x for x, _ in val_data], axis=0)\n",
    "y_val = np.concatenate([y for _, y in val_data], axis=0)"
   ]
  },
  {
   "cell_type": "code",
   "execution_count": 45,
   "metadata": {},
   "outputs": [],
   "source": [
    "# Convert labels to one-hot encoded format\n",
    "y_val = to_categorical(y_val, num_classes=4)"
   ]
  },
  {
   "cell_type": "code",
   "execution_count": 46,
   "metadata": {},
   "outputs": [
    {
     "name": "stdout",
     "output_type": "stream",
     "text": [
      "27/27 [==============================] - 3s 112ms/step - loss: 13.2610 - accuracy: 0.2497\n",
      "Validation Loss: 13.261034965515137\n",
      "Validation Accuracy: 0.24970132112503052\n"
     ]
    }
   ],
   "source": [
    "# Evaluate the model on the validation data\n",
    "val_loss, val_accuracy = model.evaluate(X_val, y_val)\n",
    "print(\"Validation Loss:\", val_loss)\n",
    "print(\"Validation Accuracy:\", val_accuracy)"
   ]
  },
  {
   "cell_type": "code",
   "execution_count": 47,
   "metadata": {},
   "outputs": [
    {
     "data": {
      "image/png": "[encoded data removed]",
      "text/plain": [
       "<Figure size 640x480 with 1 Axes>"
      ]
     },
     "metadata": {},
     "output_type": "display_data"
    },
    {
     "data": {
      "image/png": "[encoded data removed]",
      "text/plain": [
       "<Figure size 640x480 with 1 Axes>"
      ]
     },
     "metadata": {},
     "output_type": "display_data"
    }
   ],
   "source": [
    "# plotting the loss and accuracy\n",
    "import matplotlib.pyplot as plt\n",
    "# summarize history for accuracy\n",
    "plt.plot(history.history['accuracy'])\n",
    "#plt.plot(history_val[val_accuracy])\n",
    "plt.title('model accuracy standardization')\n",
    "plt.ylabel('accuracy')\n",
    "plt.xlabel('epoch')\n",
    "plt.legend(['Train'], loc='upper left')\n",
    "plt.show()\n",
    "# summarize history for loss\n",
    "plt.plot(history.history['loss'])\n",
    "#plt.plot(val_)\n",
    "plt.title('model loss standardization')\n",
    "plt.ylabel('loss')\n",
    "plt.xlabel('epoch')\n",
    "plt.legend(['Train'], loc='upper left')\n",
    "plt.show()"
   ]
  }
 ],
 "metadata": {
  "kernelspec": {
   "display_name": "Python 3",
   "language": "python",
   "name": "python3"
  },
  "language_info": {
   "codemirror_mode": {
    "name": "ipython",
    "version": 3
   },
   "file_extension": ".py",
   "mimetype": "text/x-python",
   "name": "python",
   "nbconvert_exporter": "python",
   "pygments_lexer": "ipython3",
   "version": "3.11.3"
  },
  "orig_nbformat": 4
 },
 "nbformat": 4,
 "nbformat_minor": 2
}
