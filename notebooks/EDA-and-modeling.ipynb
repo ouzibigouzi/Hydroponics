{
 "cells": [
  {
   "attachments": {},
   "cell_type": "markdown",
   "metadata": {},
   "source": [
    "# MLFLOW setup in Jupyter Notebook\n",
    "\n",
    "This notebook contains a small Data Science Project where MLFlow is used to log all Feature Engineering and Modeling Parameters as well as Metrics.\n",
    "\n"
   ]
  },
  {
   "attachments": {},
   "cell_type": "markdown",
   "metadata": {},
   "source": [
    "## Data cleaning and feature engineering"
   ]
  },
  {
   "cell_type": "code",
   "execution_count": 4,
   "metadata": {},
   "outputs": [
    {
     "ename": "ModuleNotFoundError",
     "evalue": "No module named 'PIL'",
     "output_type": "error",
     "traceback": [
      "\u001b[0;31m---------------------------------------------------------------------------\u001b[0m",
      "\u001b[0;31mModuleNotFoundError\u001b[0m                       Traceback (most recent call last)",
      "Cell \u001b[0;32mIn[4], line 1\u001b[0m\n\u001b[0;32m----> 1\u001b[0m \u001b[39mfrom\u001b[39;00m \u001b[39mPIL\u001b[39;00m \u001b[39mimport\u001b[39;00m Image\n\u001b[1;32m      2\u001b[0m \u001b[39mimport\u001b[39;00m \u001b[39mos\u001b[39;00m\n\u001b[1;32m      4\u001b[0m \u001b[39m# Specify the folder path containing the images\u001b[39;00m\n",
      "\u001b[0;31mModuleNotFoundError\u001b[0m: No module named 'PIL'"
     ]
    }
   ],
   "source": [
    "from PIL import Image\n",
    "import os\n",
    "\n",
    "# Specify the folder path containing the images\n",
    "folder_path = \"/Users/ouzibigouziouzi/Desktop/FNNPK/-N\"\n",
    "\n",
    "# Get a list of all files in the folder\n",
    "files = os.listdir(folder_path)\n",
    "\n",
    "# Iterate through each file\n",
    "for file in files:\n",
    "    # Check if the file is an image (you can customize this condition based on your file types)\n",
    "    if file.endswith(\".jpg\") or file.endswith(\".png\"):\n",
    "        # Open the image using Pillow\n",
    "        image_path = os.path.join(folder_path, file)\n",
    "        image = Image.open(image_path)\n",
    "        \n",
    "        # Get the dimensions of the image\n",
    "        width, height = image.size\n",
    "        \n",
    "        # Print the dimensions\n",
    "        print(f\"Dimensions of {file}: {width} x {height}\")"
   ]
  },
  {
   "cell_type": "code",
   "execution_count": 5,
   "metadata": {},
   "outputs": [
    {
     "name": "stdout",
     "output_type": "stream",
     "text": [
      "Collecting Pillow\n",
      "  Using cached Pillow-10.0.0-cp311-cp311-macosx_11_0_arm64.whl (3.1 MB)\n",
      "Installing collected packages: Pillow\n",
      "Successfully installed Pillow-10.0.0\n",
      "\n",
      "\u001b[1m[\u001b[0m\u001b[34;49mnotice\u001b[0m\u001b[1;39;49m]\u001b[0m\u001b[39;49m A new release of pip available: \u001b[0m\u001b[31;49m22.3.1\u001b[0m\u001b[39;49m -> \u001b[0m\u001b[32;49m23.1.2\u001b[0m\n",
      "\u001b[1m[\u001b[0m\u001b[34;49mnotice\u001b[0m\u001b[1;39;49m]\u001b[0m\u001b[39;49m To update, run: \u001b[0m\u001b[32;49mpip install --upgrade pip\u001b[0m\n",
      "Note: you may need to restart the kernel to use updated packages.\n"
     ]
    }
   ],
   "source": [
    "pip install Pillow"
   ]
  },
  {
   "cell_type": "code",
   "execution_count": 16,
   "metadata": {},
   "outputs": [
    {
     "name": "stdout",
     "output_type": "stream",
     "text": [
      "Dimensions of hydroponics_lettuce_N_59.png: 1023 x 1006\n",
      "Dimensions of hydroponics_lettuce_N_58.png: 1024 x 1002\n",
      "Dimensions of hydroponics_lettuce_N_48.png: 1024 x 1003\n",
      "Dimensions of hydroponics_lettuce_N_60.png: 1024 x 1003\n",
      "Dimensions of hydroponics_lettuce_N_61.png: 1020 x 1002\n",
      "Dimensions of hydroponics_lettuce_N_49.png: 1023 x 1006\n",
      "Dimensions of hydroponics_lettuce_N_06.png: 1023 x 1006\n",
      "Dimensions of hydroponics_lettuce_N_12.png: 1024 x 1007\n",
      "Dimensions of hydroponics_lettuce_N_13.png: 1023 x 1005\n",
      "Dimensions of hydroponics_lettuce_N_07.png: 1023 x 1006\n",
      "Dimensions of hydroponics_lettuce_N_11.png: 1023 x 1005\n",
      "Dimensions of hydroponics_lettuce_N_05.png: 1023 x 1006\n",
      "Dimensions of hydroponics_lettuce_N_39.png: 1023 x 1005\n",
      "Dimensions of hydroponics_lettuce_N_38.png: 1023 x 1002\n",
      "Dimensions of hydroponics_lettuce_N_04.png: 1023 x 1006\n",
      "Dimensions of hydroponics_lettuce_N_10.png: 1023 x 1006\n",
      "Dimensions of hydroponics_lettuce_N_28.png: 1023 x 1005\n",
      "Dimensions of hydroponics_lettuce_N_14.png: 1023 x 1005\n",
      "Dimensions of hydroponics_lettuce_N_01.png: 405 x 326\n",
      "Dimensions of hydroponics_lettuce_N_15.png: 1023 x 1006\n",
      "Dimensions of hydroponics_lettuce_N_29.png: 1023 x 1005\n",
      "Dimensions of hydroponics_lettuce_N_03.png: 1683 x 1548\n",
      "Dimensions of hydroponics_lettuce_N_17.png: 1023 x 1006\n",
      "Dimensions of hydroponics_lettuce_N_16.png: 1023 x 1006\n",
      "Dimensions of hydroponics_lettuce_N_02.png: 1590 x 1397\n",
      "Dimensions of hydroponics_lettuce_N_27.png: 1024 x 1024\n",
      "Dimensions of hydroponics_lettuce_N_33.png: 1024 x 1007\n",
      "Dimensions of hydroponics_lettuce_N_32.png: 1024 x 1006\n",
      "Dimensions of hydroponics_lettuce_N_26.png: 1024 x 1024\n",
      "Dimensions of hydroponics_lettuce_N_30.png: 1020 x 1002\n",
      "Dimensions of hydroponics_lettuce_N_24.png: 1024 x 1024\n",
      "Dimensions of hydroponics_lettuce_N_18.png: 1024 x 1005\n",
      "Dimensions of hydroponics_lettuce_N_19.png: 1024 x 1024\n",
      "Dimensions of hydroponics_lettuce_N_25.png: 1024 x 1024\n",
      "Dimensions of hydroponics_lettuce_N_31.png: 1020 x 1001\n",
      "Dimensions of hydroponics_lettuce_N_09.png: 1023 x 1006\n",
      "Dimensions of hydroponics_lettuce_N_35.png: 1023 x 1005\n",
      "Dimensions of hydroponics_lettuce_N_21.png: 1024 x 1024\n",
      "Dimensions of hydroponics_lettuce_N_20.png: 1024 x 1024\n",
      "Dimensions of hydroponics_lettuce_N_34.png: 1024 x 1003\n",
      "Dimensions of hydroponics_lettuce_N_08.png: 1024 x 1003\n",
      "Dimensions of hydroponics_lettuce_N_22.png: 1024 x 1024\n",
      "Dimensions of hydroponics_lettuce_N_36.png: 1024 x 1002\n",
      "Dimensions of hydroponics_lettuce_N_37.png: 1023 x 1005\n",
      "Dimensions of hydroponics_lettuce_N_23.png: 1024 x 1024\n",
      "Dimensions of hydroponics_lettuce_N_44.png: 1024 x 1003\n",
      "Dimensions of hydroponics_lettuce_N_50.png: 1023 x 1006\n",
      "Dimensions of hydroponics_lettuce_N_51.png: 1023 x 1005\n",
      "Dimensions of hydroponics_lettuce_N_45.png: 1023 x 1005\n",
      "Dimensions of hydroponics_lettuce_N_53.png: 1024 x 1003\n",
      "Dimensions of hydroponics_lettuce_N_47.png: 1020 x 999\n",
      "Dimensions of hydroponics_lettuce_N_46.png: 1024 x 1001\n",
      "Dimensions of hydroponics_lettuce_N_52.png: 1020 x 1000\n",
      "Dimensions of hydroponics_lettuce_N_56.png: 1023 x 1006\n",
      "Dimensions of hydroponics_lettuce_N_42.png: 1024 x 1005\n",
      "Dimensions of hydroponics_lettuce_N_43.png: 1023 x 1006\n",
      "Dimensions of hydroponics_lettuce_N_57.png: 1024 x 1006\n",
      "Dimensions of hydroponics_lettuce_N_41.png: 1023 x 1005\n",
      "Dimensions of hydroponics_lettuce_N_55.png: 1024 x 1003\n",
      "Dimensions of hydroponics_lettuce_N_54.png: 1024 x 1003\n",
      "Dimensions of hydroponics_lettuce_N_40.png: 1024 x 1003\n"
     ]
    }
   ],
   "source": [
    "from PIL import Image\n",
    "import os\n",
    "\n",
    "# Specify the folder path containing the images\n",
    "folder_path = \"/Users/ouzibigouziouzi/Desktop/FNNPK/-N\"\n",
    "\n",
    "# Get a list of all files in the folder\n",
    "file_list = os.listdir(folder_path)\n",
    "\n",
    "# Sort the file list to ensure the images are ordered\n",
    "file_list.sort()\n",
    "\n",
    "# Iterate through each file\n",
    "for file in files:\n",
    "    # Check if the file is an image (you can customize this condition based on your file types)\n",
    "    if file.endswith(\".jpg\") or file.endswith(\".png\"):\n",
    "        # Open the image using Pillow\n",
    "        image_path = os.path.join(folder_path, file)\n",
    "        image = Image.open(image_path)\n",
    "        \n",
    "        # Get the dimensions of the image\n",
    "        width, height = image.size\n",
    "        \n",
    "        # Print the dimensions\n",
    "        print(f\"Dimensions of {file}: {width} x {height}\")"
   ]
  },
  {
   "cell_type": "code",
   "execution_count": 26,
   "metadata": {},
   "outputs": [
    {
     "name": "stdout",
     "output_type": "stream",
     "text": [
      "Collecting matplotlib\n",
      "  Using cached matplotlib-3.7.1-cp311-cp311-macosx_11_0_arm64.whl (7.3 MB)\n",
      "Collecting contourpy>=1.0.1\n",
      "  Using cached contourpy-1.1.0-cp311-cp311-macosx_11_0_arm64.whl (229 kB)\n",
      "Collecting cycler>=0.10\n",
      "  Using cached cycler-0.11.0-py3-none-any.whl (6.4 kB)\n",
      "Collecting fonttools>=4.22.0\n",
      "  Using cached fonttools-4.40.0-cp311-cp311-macosx_10_9_universal2.whl (2.5 MB)\n",
      "Collecting kiwisolver>=1.0.1\n",
      "  Using cached kiwisolver-1.4.4-cp311-cp311-macosx_11_0_arm64.whl (63 kB)\n",
      "Collecting numpy>=1.20\n",
      "  Using cached numpy-1.25.0-cp311-cp311-macosx_11_0_arm64.whl (14.0 MB)\n",
      "Requirement already satisfied: packaging>=20.0 in /Users/ouzibigouziouzi/.pyenv/versions/3.11.3/lib/python3.11/site-packages (from matplotlib) (23.1)\n",
      "Requirement already satisfied: pillow>=6.2.0 in /Users/ouzibigouziouzi/.pyenv/versions/3.11.3/lib/python3.11/site-packages (from matplotlib) (10.0.0)\n",
      "Collecting pyparsing>=2.3.1\n",
      "  Using cached pyparsing-3.1.0-py3-none-any.whl (102 kB)\n",
      "Requirement already satisfied: python-dateutil>=2.7 in /Users/ouzibigouziouzi/.pyenv/versions/3.11.3/lib/python3.11/site-packages (from matplotlib) (2.8.2)\n",
      "Requirement already satisfied: six>=1.5 in /Users/ouzibigouziouzi/.pyenv/versions/3.11.3/lib/python3.11/site-packages (from python-dateutil>=2.7->matplotlib) (1.16.0)\n",
      "Installing collected packages: pyparsing, numpy, kiwisolver, fonttools, cycler, contourpy, matplotlib\n",
      "Successfully installed contourpy-1.1.0 cycler-0.11.0 fonttools-4.40.0 kiwisolver-1.4.4 matplotlib-3.7.1 numpy-1.25.0 pyparsing-3.1.0\n",
      "\n",
      "\u001b[1m[\u001b[0m\u001b[34;49mnotice\u001b[0m\u001b[1;39;49m]\u001b[0m\u001b[39;49m A new release of pip available: \u001b[0m\u001b[31;49m22.3.1\u001b[0m\u001b[39;49m -> \u001b[0m\u001b[32;49m23.1.2\u001b[0m\n",
      "\u001b[1m[\u001b[0m\u001b[34;49mnotice\u001b[0m\u001b[1;39;49m]\u001b[0m\u001b[39;49m To update, run: \u001b[0m\u001b[32;49mpip install --upgrade pip\u001b[0m\n",
      "Note: you may need to restart the kernel to use updated packages.\n"
     ]
    }
   ],
   "source": [
    "pip install matplotlib"
   ]
  },
  {
   "cell_type": "code",
   "execution_count": 2,
   "metadata": {},
   "outputs": [
    {
     "name": "stdout",
     "output_type": "stream",
     "text": [
      "Collecting tensorflow\n",
      "  Using cached tensorflow-2.13.0rc2-cp311-cp311-macosx_12_0_arm64.whl (2.0 kB)\n",
      "Collecting tensorflow-macos==2.13.0-rc2\n",
      "  Using cached tensorflow_macos-2.13.0rc2-cp311-cp311-macosx_12_0_arm64.whl (189.3 MB)\n",
      "Collecting absl-py>=1.0.0\n",
      "  Using cached absl_py-1.4.0-py3-none-any.whl (126 kB)\n",
      "Collecting astunparse>=1.6.0\n",
      "  Using cached astunparse-1.6.3-py2.py3-none-any.whl (12 kB)\n",
      "Collecting flatbuffers>=23.1.21\n",
      "  Using cached flatbuffers-23.5.26-py2.py3-none-any.whl (26 kB)\n",
      "Collecting gast<=0.4.0,>=0.2.1\n",
      "  Using cached gast-0.4.0-py3-none-any.whl (9.8 kB)\n",
      "Collecting google-pasta>=0.1.1\n",
      "  Using cached google_pasta-0.2.0-py3-none-any.whl (57 kB)\n",
      "Collecting h5py>=2.9.0\n",
      "  Using cached h5py-3.9.0-cp311-cp311-macosx_11_0_arm64.whl (2.6 MB)\n",
      "Collecting libclang>=13.0.0\n",
      "  Using cached libclang-16.0.0-py2.py3-none-macosx_11_0_arm64.whl (24.3 MB)\n",
      "Requirement already satisfied: numpy>=1.22 in /Users/ouzibigouziouzi/.pyenv/versions/3.11.3/lib/python3.11/site-packages (from tensorflow-macos==2.13.0-rc2->tensorflow) (1.25.0)\n",
      "Collecting opt-einsum>=2.3.2\n",
      "  Using cached opt_einsum-3.3.0-py3-none-any.whl (65 kB)\n",
      "Requirement already satisfied: packaging in /Users/ouzibigouziouzi/.pyenv/versions/3.11.3/lib/python3.11/site-packages (from tensorflow-macos==2.13.0-rc2->tensorflow) (23.1)\n",
      "Collecting protobuf!=4.21.0,!=4.21.1,!=4.21.2,!=4.21.3,!=4.21.4,!=4.21.5,<5.0.0dev,>=3.20.3\n",
      "  Using cached protobuf-4.23.3-cp37-abi3-macosx_10_9_universal2.whl (400 kB)\n",
      "Requirement already satisfied: setuptools in /Users/ouzibigouziouzi/.pyenv/versions/3.11.3/lib/python3.11/site-packages (from tensorflow-macos==2.13.0-rc2->tensorflow) (65.5.0)\n",
      "Requirement already satisfied: six>=1.12.0 in /Users/ouzibigouziouzi/.pyenv/versions/3.11.3/lib/python3.11/site-packages (from tensorflow-macos==2.13.0-rc2->tensorflow) (1.16.0)\n",
      "Collecting termcolor>=1.1.0\n",
      "  Using cached termcolor-2.3.0-py3-none-any.whl (6.9 kB)\n",
      "Collecting typing-extensions<4.6.0,>=3.6.6\n",
      "  Using cached typing_extensions-4.5.0-py3-none-any.whl (27 kB)\n",
      "Collecting wrapt>=1.11.0\n",
      "  Using cached wrapt-1.15.0-cp311-cp311-macosx_11_0_arm64.whl (36 kB)\n",
      "Collecting grpcio<2.0,>=1.24.3\n",
      "  Using cached grpcio-1.56.0-cp311-cp311-macosx_10_10_universal2.whl (8.9 MB)\n",
      "Collecting tensorboard<2.14,>=2.13\n",
      "  Using cached tensorboard-2.13.0-py3-none-any.whl (5.6 MB)\n",
      "Collecting tensorflow-estimator<2.14,>=2.13.0rc0\n",
      "  Using cached tensorflow_estimator-2.13.0-py2.py3-none-any.whl (440 kB)\n",
      "Collecting keras<2.14,>=2.13.1rc0\n",
      "  Using cached keras-2.13.1-py3-none-any.whl (1.7 MB)\n",
      "Collecting wheel<1.0,>=0.23.0\n",
      "  Using cached wheel-0.40.0-py3-none-any.whl (64 kB)\n",
      "Collecting google-auth<3,>=1.6.3\n",
      "  Using cached google_auth-2.21.0-py2.py3-none-any.whl (182 kB)\n",
      "Collecting google-auth-oauthlib<1.1,>=0.5\n",
      "  Using cached google_auth_oauthlib-1.0.0-py2.py3-none-any.whl (18 kB)\n",
      "Collecting markdown>=2.6.8\n",
      "  Using cached Markdown-3.4.3-py3-none-any.whl (93 kB)\n",
      "Collecting requests<3,>=2.21.0\n",
      "  Using cached requests-2.31.0-py3-none-any.whl (62 kB)\n",
      "Collecting tensorboard-data-server<0.8.0,>=0.7.0\n",
      "  Using cached tensorboard_data_server-0.7.1-py3-none-any.whl (2.4 kB)\n",
      "Collecting werkzeug>=1.0.1\n",
      "  Using cached Werkzeug-2.3.6-py3-none-any.whl (242 kB)\n",
      "Collecting cachetools<6.0,>=2.0.0\n",
      "  Using cached cachetools-5.3.1-py3-none-any.whl (9.3 kB)\n",
      "Collecting pyasn1-modules>=0.2.1\n",
      "  Using cached pyasn1_modules-0.3.0-py2.py3-none-any.whl (181 kB)\n",
      "Collecting rsa<5,>=3.1.4\n",
      "  Using cached rsa-4.9-py3-none-any.whl (34 kB)\n",
      "Collecting urllib3<2.0\n",
      "  Using cached urllib3-1.26.16-py2.py3-none-any.whl (143 kB)\n",
      "Collecting requests-oauthlib>=0.7.0\n",
      "  Using cached requests_oauthlib-1.3.1-py2.py3-none-any.whl (23 kB)\n",
      "Collecting charset-normalizer<4,>=2\n",
      "  Using cached charset_normalizer-3.1.0-cp311-cp311-macosx_11_0_arm64.whl (121 kB)\n",
      "Collecting idna<4,>=2.5\n",
      "  Using cached idna-3.4-py3-none-any.whl (61 kB)\n",
      "Collecting certifi>=2017.4.17\n",
      "  Using cached certifi-2023.5.7-py3-none-any.whl (156 kB)\n",
      "Collecting MarkupSafe>=2.1.1\n",
      "  Using cached MarkupSafe-2.1.3-cp311-cp311-macosx_10_9_universal2.whl (17 kB)\n",
      "Collecting pyasn1<0.6.0,>=0.4.6\n",
      "  Using cached pyasn1-0.5.0-py2.py3-none-any.whl (83 kB)\n",
      "Collecting oauthlib>=3.0.0\n",
      "  Using cached oauthlib-3.2.2-py3-none-any.whl (151 kB)\n",
      "Installing collected packages: libclang, flatbuffers, wrapt, wheel, urllib3, typing-extensions, termcolor, tensorflow-estimator, tensorboard-data-server, pyasn1, protobuf, opt-einsum, oauthlib, MarkupSafe, markdown, keras, idna, h5py, grpcio, google-pasta, gast, charset-normalizer, certifi, cachetools, absl-py, werkzeug, rsa, requests, pyasn1-modules, astunparse, requests-oauthlib, google-auth, google-auth-oauthlib, tensorboard, tensorflow-macos, tensorflow\n",
      "Successfully installed MarkupSafe-2.1.3 absl-py-1.4.0 astunparse-1.6.3 cachetools-5.3.1 certifi-2023.5.7 charset-normalizer-3.1.0 flatbuffers-23.5.26 gast-0.4.0 google-auth-2.21.0 google-auth-oauthlib-1.0.0 google-pasta-0.2.0 grpcio-1.56.0 h5py-3.9.0 idna-3.4 keras-2.13.1 libclang-16.0.0 markdown-3.4.3 oauthlib-3.2.2 opt-einsum-3.3.0 protobuf-4.23.3 pyasn1-0.5.0 pyasn1-modules-0.3.0 requests-2.31.0 requests-oauthlib-1.3.1 rsa-4.9 tensorboard-2.13.0 tensorboard-data-server-0.7.1 tensorflow-2.13.0rc2 tensorflow-estimator-2.13.0 tensorflow-macos-2.13.0rc2 termcolor-2.3.0 typing-extensions-4.5.0 urllib3-1.26.16 werkzeug-2.3.6 wheel-0.40.0 wrapt-1.15.0\n",
      "\n",
      "\u001b[1m[\u001b[0m\u001b[34;49mnotice\u001b[0m\u001b[1;39;49m]\u001b[0m\u001b[39;49m A new release of pip available: \u001b[0m\u001b[31;49m22.3.1\u001b[0m\u001b[39;49m -> \u001b[0m\u001b[32;49m23.1.2\u001b[0m\n",
      "\u001b[1m[\u001b[0m\u001b[34;49mnotice\u001b[0m\u001b[1;39;49m]\u001b[0m\u001b[39;49m To update, run: \u001b[0m\u001b[32;49mpip install --upgrade pip\u001b[0m\n",
      "Note: you may need to restart the kernel to use updated packages.\n"
     ]
    }
   ],
   "source": [
    "pip install tensorflow"
   ]
  },
  {
   "cell_type": "code",
   "execution_count": 3,
   "metadata": {},
   "outputs": [
    {
     "name": "stdout",
     "output_type": "stream",
     "text": [
      "Requirement already satisfied: keras in /Users/ouzibigouziouzi/.pyenv/versions/3.11.3/lib/python3.11/site-packages (2.13.1)\n",
      "\n",
      "\u001b[1m[\u001b[0m\u001b[34;49mnotice\u001b[0m\u001b[1;39;49m]\u001b[0m\u001b[39;49m A new release of pip available: \u001b[0m\u001b[31;49m22.3.1\u001b[0m\u001b[39;49m -> \u001b[0m\u001b[32;49m23.1.2\u001b[0m\n",
      "\u001b[1m[\u001b[0m\u001b[34;49mnotice\u001b[0m\u001b[1;39;49m]\u001b[0m\u001b[39;49m To update, run: \u001b[0m\u001b[32;49mpip install --upgrade pip\u001b[0m\n",
      "Note: you may need to restart the kernel to use updated packages.\n"
     ]
    }
   ],
   "source": [
    "pip install keras"
   ]
  },
  {
   "cell_type": "code",
   "execution_count": 1,
   "metadata": {},
   "outputs": [],
   "source": [
    "import pathlib\n",
    "import IPython.display as display\n",
    "from PIL import Image\n",
    "import matplotlib.pyplot as plt\n",
    "import numpy as np\n",
    "import tensorflow as tf"
   ]
  },
  {
   "cell_type": "code",
   "execution_count": 3,
   "metadata": {},
   "outputs": [
    {
     "name": "stdout",
     "output_type": "stream",
     "text": [
      "Resized hydroponics_lettuce_N_59.png to (224, 224)\n",
      "Resized hydroponics_lettuce_N_58.png to (224, 224)\n",
      "Resized hydroponics_lettuce_N_48.png to (224, 224)\n",
      "Resized hydroponics_lettuce_N_60.png to (224, 224)\n",
      "Resized hydroponics_lettuce_N_61.png to (224, 224)\n",
      "Resized hydroponics_lettuce_N_49.png to (224, 224)\n",
      "Resized hydroponics_lettuce_N_06.png to (224, 224)\n",
      "Resized hydroponics_lettuce_N_12.png to (224, 224)\n",
      "Resized hydroponics_lettuce_N_13.png to (224, 224)\n",
      "Resized hydroponics_lettuce_N_07.png to (224, 224)\n",
      "Resized hydroponics_lettuce_N_11.png to (224, 224)\n",
      "Resized hydroponics_lettuce_N_05.png to (224, 224)\n",
      "Resized hydroponics_lettuce_N_39.png to (224, 224)\n",
      "Resized hydroponics_lettuce_N_38.png to (224, 224)\n",
      "Resized hydroponics_lettuce_N_04.png to (224, 224)\n",
      "Resized hydroponics_lettuce_N_10.png to (224, 224)\n",
      "Resized hydroponics_lettuce_N_28.png to (224, 224)\n",
      "Resized hydroponics_lettuce_N_14.png to (224, 224)\n",
      "Resized hydroponics_lettuce_N_01.png to (224, 224)\n",
      "Resized hydroponics_lettuce_N_15.png to (224, 224)\n",
      "Resized hydroponics_lettuce_N_29.png to (224, 224)\n",
      "Resized hydroponics_lettuce_N_03.png to (224, 224)\n",
      "Resized hydroponics_lettuce_N_17.png to (224, 224)\n",
      "Resized hydroponics_lettuce_N_16.png to (224, 224)\n",
      "Resized hydroponics_lettuce_N_02.png to (224, 224)\n",
      "Resized hydroponics_lettuce_N_27.png to (224, 224)\n",
      "Resized hydroponics_lettuce_N_33.png to (224, 224)\n",
      "Resized hydroponics_lettuce_N_32.png to (224, 224)\n",
      "Resized hydroponics_lettuce_N_26.png to (224, 224)\n",
      "Resized hydroponics_lettuce_N_30.png to (224, 224)\n",
      "Resized hydroponics_lettuce_N_24.png to (224, 224)\n",
      "Resized hydroponics_lettuce_N_18.png to (224, 224)\n",
      "Resized hydroponics_lettuce_N_19.png to (224, 224)\n",
      "Resized hydroponics_lettuce_N_25.png to (224, 224)\n",
      "Resized hydroponics_lettuce_N_31.png to (224, 224)\n",
      "Resized hydroponics_lettuce_N_09.png to (224, 224)\n",
      "Resized hydroponics_lettuce_N_35.png to (224, 224)\n",
      "Resized hydroponics_lettuce_N_21.png to (224, 224)\n",
      "Resized hydroponics_lettuce_N_20.png to (224, 224)\n",
      "Resized hydroponics_lettuce_N_34.png to (224, 224)\n",
      "Resized hydroponics_lettuce_N_08.png to (224, 224)\n",
      "Resized hydroponics_lettuce_N_22.png to (224, 224)\n",
      "Resized hydroponics_lettuce_N_36.png to (224, 224)\n",
      "Resized hydroponics_lettuce_N_37.png to (224, 224)\n",
      "Resized hydroponics_lettuce_N_23.png to (224, 224)\n",
      "Resized hydroponics_lettuce_N_44.png to (224, 224)\n",
      "Resized hydroponics_lettuce_N_50.png to (224, 224)\n",
      "Resized hydroponics_lettuce_N_51.png to (224, 224)\n",
      "Resized hydroponics_lettuce_N_45.png to (224, 224)\n",
      "Resized hydroponics_lettuce_N_53.png to (224, 224)\n",
      "Resized hydroponics_lettuce_N_47.png to (224, 224)\n",
      "Resized hydroponics_lettuce_N_46.png to (224, 224)\n",
      "Resized hydroponics_lettuce_N_52.png to (224, 224)\n",
      "Resized hydroponics_lettuce_N_56.png to (224, 224)\n",
      "Resized hydroponics_lettuce_N_42.png to (224, 224)\n",
      "Resized hydroponics_lettuce_N_43.png to (224, 224)\n",
      "Resized hydroponics_lettuce_N_57.png to (224, 224)\n",
      "Resized hydroponics_lettuce_N_41.png to (224, 224)\n",
      "Resized hydroponics_lettuce_N_55.png to (224, 224)\n",
      "Resized hydroponics_lettuce_N_54.png to (224, 224)\n",
      "Resized hydroponics_lettuce_N_40.png to (224, 224)\n",
      "Image resizing complete!\n"
     ]
    }
   ],
   "source": [
    "from PIL import Image\n",
    "import os\n",
    "\n",
    "def resize_images(input_dir, output_dir, target_size):\n",
    "    for filename in os.listdir(input_dir):\n",
    "        if filename.endswith(\".jpg\") or filename.endswith(\".png\"):  # Adjust file extensions as needed\n",
    "            # Open the image\n",
    "            image_path = os.path.join(input_dir, filename)\n",
    "            image = Image.open(image_path)\n",
    "            \n",
    "            # Resize the image\n",
    "            resized_image = image.resize(target_size)\n",
    "            \n",
    "            # Save the resized image\n",
    "            output_path = os.path.join(output_dir, filename)\n",
    "            resized_image.save(output_path)\n",
    "            \n",
    "            print(f\"Resized {filename} to {target_size}\")\n",
    "    \n",
    "    print(\"Image resizing complete!\")\n",
    "\n",
    "# Example usage\n",
    "input_directory = \"/Users/ouzibigouziouzi/Desktop/FNNPK/-N\"  # Directory containing input images\n",
    "output_directory = \"/Users/ouzibigouziouzi/Desktop/FNNPK/-N_resize\"  # Directory to save resized images\n",
    "target_size = (224, 224)  # Target size in pixels (width, height)\n",
    "\n",
    "resize_images(input_directory, output_directory, target_size)"
   ]
  }
 ],
 "metadata": {
  "kernelspec": {
   "display_name": "Python 3",
   "language": "python",
   "name": "python3"
  },
  "language_info": {
   "codemirror_mode": {
    "name": "ipython",
    "version": 3
   },
   "file_extension": ".py",
   "mimetype": "text/x-python",
   "name": "python",
   "nbconvert_exporter": "python",
   "pygments_lexer": "ipython3",
   "version": "3.11.3"
  },
  "metadata": {
   "interpreter": {
    "hash": "aee8b7b246df8f9039afb4144a1f6fd8d2ca17a180786b69acc140d282b71a49"
   }
  }
 },
 "nbformat": 4,
 "nbformat_minor": 4
}
