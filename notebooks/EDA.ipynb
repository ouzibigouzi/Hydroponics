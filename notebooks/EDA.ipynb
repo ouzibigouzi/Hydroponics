{
 "cells": [
  {
   "attachments": {},
   "cell_type": "markdown",
   "metadata": {},
   "source": [
    "# Code Snippet EDA\n",
    "\n",
    "This notebook contains the EDA\n",
    "\n"
   ]
  },
  {
   "cell_type": "code",
   "execution_count": null,
   "metadata": {},
   "outputs": [],
   "source": [
    "#!pip install seaborn\n",
    "#!pip install filetype"
   ]
  },
  {
   "cell_type": "code",
   "execution_count": null,
   "metadata": {},
   "outputs": [],
   "source": [
    "from IPython.display import Image as DisplayImage, display\n",
    "from PIL import Image\n",
    "\n",
    "\n",
    "import seaborn as sns\n",
    "import numpy as np\n",
    "import pandas as pd\n",
    "import matplotlib.pyplot as plt\n",
    "\n",
    "import filetype\n",
    "import os\n",
    "import random\n",
    "\n",
    "\n",
    "sns.set_style('whitegrid')"
   ]
  },
  {
   "attachments": {},
   "cell_type": "markdown",
   "metadata": {},
   "source": [
    "## Import Dataset"
   ]
  },
  {
   "cell_type": "code",
   "execution_count": null,
   "metadata": {},
   "outputs": [],
   "source": [
    "# Set the directory path of the dataset\n",
    "dataset_dir = '/Users/lukasiwan/NeueFische/Repositories/Hydroponics/data/original_dataset'\n",
    "\n",
    "# Get the class names from the subdirectories\n",
    "class_names = [name for name in os.listdir(dataset_dir) if os.path.isdir(os.path.join(dataset_dir, name))]"
   ]
  },
  {
   "attachments": {},
   "cell_type": "markdown",
   "metadata": {},
   "source": [
    "## Class distribution"
   ]
  },
  {
   "cell_type": "code",
   "execution_count": null,
   "metadata": {},
   "outputs": [],
   "source": [
    "# Initialize an empty dictionary to store class counts\n",
    "class_counts = {}\n",
    "\n",
    "# Iterate over the class names and count the number of images in each class\n",
    "for class_name in class_names:\n",
    "    class_dir = os.path.join(dataset_dir, class_name)\n",
    "    file_pattern = os.path.join(class_dir, '*')\n",
    "    class_count = sum(1 for file_path in glob.glob(file_pattern) if os.path.isfile(file_path))\n",
    "    class_counts[class_name] = class_count\n",
    "\n",
    "# Create a DataFrame from class counts\n",
    "class_data = pd.DataFrame({'Class': list(class_counts.keys()), 'Count': list(class_counts.values())})\n",
    "\n",
    "# Sort the DataFrame in descending order by count\n",
    "class_data = class_data.sort_values(by='Count', ascending=False)\n",
    "\n",
    "# Set seaborn style\n",
    "sns.set_style(\"whitegrid\")\n",
    "\n",
    "# Create a barplot using Seaborn\n",
    "plt.figure(figsize=(10, 6))\n",
    "sns.barplot(data=class_data, x='Count', y='Class', color=(89/255, 145/255, 145/255))\n",
    "plt.xlabel('Count', fontsize = 14)\n",
    "plt.ylabel('Class', fontsize = 14)\n",
    "plt.title('Class Distribution', fontsize = 16)\n",
    "\n",
    "# Set font size for the count axis labels\n",
    "plt.xticks(fontsize=10)\n",
    "\n",
    "\n",
    "plt.tight_layout()\n",
    "plt.show()"
   ]
  },
  {
   "attachments": {},
   "cell_type": "markdown",
   "metadata": {},
   "source": [
    "## Data format"
   ]
  },
  {
   "cell_type": "code",
   "execution_count": null,
   "metadata": {},
   "outputs": [],
   "source": [
    "# Initialize a dictionary to store the count of each image format\n",
    "format_count = {}\n",
    "\n",
    "# Iterate over each class folder\n",
    "for class_name in class_names:\n",
    "    # Get the path to the current class folder\n",
    "    class_folder = os.path.join(dataset_dir, class_name)\n",
    "\n",
    "    # Get a list of image files within the class folder\n",
    "    image_files = [file for file in os.listdir(class_folder) if os.path.isfile(os.path.join(class_folder, file))]\n",
    "\n",
    "    # Iterate over each image file\n",
    "    for image_file in image_files:\n",
    "        # Get the file extension (image format) using the filetype library\n",
    "        file_path = os.path.join(class_folder, image_file)\n",
    "        file_info = filetype.guess(file_path)\n",
    "        file_extension = file_info.extension.lower() if file_info is not None else None\n",
    "\n",
    "        # Increment the count of the image format in the dictionary\n",
    "        format_count[file_extension] = format_count.get(file_extension, 0) + 1\n",
    "\n",
    "# Remove None key if it exists (for files that are not recognized as images)\n",
    "format_count.pop(None, None)\n",
    "\n",
    "# Extract the image formats and their counts from the dictionary\n",
    "formats = list(format_count.keys())\n",
    "counts = list(format_count.values())\n"
   ]
  },
  {
   "cell_type": "code",
   "execution_count": null,
   "metadata": {},
   "outputs": [],
   "source": [
    "# Sort the image formats and counts in descending order of counts\n",
    "sorted_formats = sorted(format_count.keys(), key=lambda x: format_count[x], reverse=True)\n",
    "sorted_counts = [format_count[format] for format in sorted_formats]\n"
   ]
  },
  {
   "cell_type": "code",
   "execution_count": null,
   "metadata": {},
   "outputs": [],
   "source": [
    "# Set seaborn style\n",
    "sns.set_style(\"whitegrid\")\n",
    "\n",
    "# Create the bar plot\n",
    "plt.figure(figsize=(10, 6))\n",
    "bar_plot = sns.barplot(x=sorted_formats, y=sorted_counts)\n",
    "plt.xlabel(\"Image Formats\")\n",
    "plt.ylabel(\"Count\")\n",
    "plt.title(\"Image Formats in the Dataset\")\n",
    "\n",
    "# Add count values above each bar\n",
    "for i, count in enumerate(sorted_counts):\n",
    "    bar_plot.text(i, count, str(count), ha='center', va='bottom')\n",
    "\n",
    "# Remove top and right spines\n",
    "sns.despine(top=True, right=True)\n",
    "\n",
    "# Show the plot\n",
    "plt.show()"
   ]
  },
  {
   "attachments": {},
   "cell_type": "markdown",
   "metadata": {},
   "source": [
    "## Image size"
   ]
  },
  {
   "cell_type": "code",
   "execution_count": null,
   "metadata": {},
   "outputs": [],
   "source": [
    "# Initialize empty lists to store the image sizes\n",
    "widths = []\n",
    "heights = []\n",
    "colors = []\n",
    "\n",
    "# Iterate over each class\n",
    "for i, class_name in enumerate(class_names):\n",
    "    # Get the path to the class folder\n",
    "    class_folder = os.path.join(dataset_dir, class_name)\n",
    "\n",
    "    # Iterate over the image files within the class folder\n",
    "    for file_name in os.listdir(class_folder):\n",
    "        # Skip the .DS_Store file\n",
    "        if file_name == '.DS_Store':\n",
    "            continue\n",
    "\n",
    "        file_path = os.path.join(class_folder, file_name)\n",
    "\n",
    "        # Open the image and get its size\n",
    "        with Image.open(file_path) as img:\n",
    "            width, height = img.size\n",
    "\n",
    "        # Append the image sizes and color for each data point\n",
    "        widths.append(width)\n",
    "        heights.append(height)\n",
    "        colors.append(i)"
   ]
  },
  {
   "cell_type": "code",
   "execution_count": null,
   "metadata": {},
   "outputs": [],
   "source": [
    "# Create a scatter plot of image sizes with colors based on data class\n",
    "plt.figure(figsize=(10, 6))\n",
    "scatterplot = sns.scatterplot(x=widths, y=heights, hue=colors, palette='colorblind')\n",
    "plt.xlabel(\"Width\")\n",
    "plt.ylabel(\"Height\")\n",
    "plt.title(\"Image Sizes\")\n",
    "\n",
    "# Remove top and right spines\n",
    "sns.despine(top=True, right=True)\n",
    "\n",
    "# Customize the legend\n",
    "handles, labels = scatterplot.get_legend_handles_labels()\n",
    "scatterplot.legend(handles, class_names, title=\"Data Class\", bbox_to_anchor=(1, 1), loc='upper left')\n",
    "\n",
    "# Show the plot\n",
    "plt.show()"
   ]
  },
  {
   "attachments": {},
   "cell_type": "markdown",
   "metadata": {},
   "source": [
    "## Image examples"
   ]
  },
  {
   "cell_type": "code",
   "execution_count": null,
   "metadata": {},
   "outputs": [],
   "source": [
    "# Set the number of random images to display from each class\n",
    "num_examples_per_class = 2  # Update with the desired number\n",
    "\n",
    "# Iterate over each class\n",
    "for class_name in class_names:\n",
    "    # Get the path to the class folder\n",
    "    class_folder = os.path.join(dataset_dir, class_name)\n",
    "\n",
    "    # Get a list of image files within the class folder\n",
    "    image_files = [file for file in os.listdir(class_folder) if os.path.isfile(os.path.join(class_folder, file))]\n",
    "\n",
    "    # Select random image files\n",
    "    random_images = random.sample(image_files, num_examples_per_class)\n",
    "\n",
    "    # Display the random images\n",
    "    print(f\"Random Image Examples from {class_name} Class:\")\n",
    "    for image_file in random_images:\n",
    "        # Get the image file path\n",
    "        image_path = os.path.join(class_folder, image_file)\n",
    "\n",
    "        # Display the image\n",
    "        display(DisplayImage(filename=image_path))"
   ]
  }
 ],
 "metadata": {
  "kernelspec": {
   "display_name": "Python 3",
   "language": "python",
   "name": "python3"
  },
  "language_info": {
   "codemirror_mode": {
    "name": "ipython",
    "version": 3
   },
   "file_extension": ".py",
   "mimetype": "text/x-python",
   "name": "python",
   "nbconvert_exporter": "python",
   "pygments_lexer": "ipython3",
   "version": "3.11.3"
  },
  "metadata": {
   "interpreter": {
    "hash": "aee8b7b246df8f9039afb4144a1f6fd8d2ca17a180786b69acc140d282b71a49"
   }
  }
 },
 "nbformat": 4,
 "nbformat_minor": 4
}
