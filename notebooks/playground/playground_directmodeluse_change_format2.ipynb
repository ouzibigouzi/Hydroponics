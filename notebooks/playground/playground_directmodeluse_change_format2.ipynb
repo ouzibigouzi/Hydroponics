{
 "cells": [
  {
   "cell_type": "code",
   "execution_count": 48,
   "metadata": {},
   "outputs": [],
   "source": [
    "def change_format(Image_path, picture_format):\n",
    "    \"\"\"\n",
    "    Function that changes the image format. It takes the image path and the desired format as input. It can only switch .png and .jpeg files, others will raise an error.\n",
    "    \"\"\"\n",
    "    # example call: change_format(\"/Users/XX/Desktop/Screenshot 2023-06-23 at 15.18.03.jpeg\", \".png\")\n",
    "\n",
    "    # installs the PIL package if not already there. This adds image processing capabilities (see also https://pypi.org/project/Pillow/, doc: https://pillow.readthedocs.io/en/stable/reference/Image.html)\n",
    "    # the grep -v command hides the output stating that the packaged is already there\n",
    "    %pip install Pillow | grep -v 'already satisfied'\n",
    "    from PIL import Image\n",
    "\n",
    "    #check if input is a valid image path by checking if try: Image.open() works, otherwise the except below raises an error.\n",
    "    try:\n",
    "        #open the specified image\n",
    "        im1 = Image.open(Image_path)\n",
    "        # wanted output explanation, comment out if necessary\n",
    "        statement = \"The image stored in \" + str(Image_path) + \" has been changed to the \" + str(picture_format) + \" format.\"\n",
    "\n",
    "        if picture_format == \".jpeg\":\n",
    "            if \".jpeg\" in Image_path:\n",
    "                return \"The file is already in .jpeg format\"\n",
    "            # the file ending in the path is replaced\n",
    "            Image_path = Image_path.replace(\".png\",\".jpeg\")\n",
    "            #the image has to be converted to RGB as JPG does not support transparency (RGBA from png format, A is transparency)\n",
    "            im1 = im1.convert('RGB')\n",
    "            #file is saved in updated file path\n",
    "            im1.save(Image_path)\n",
    "            return statement\n",
    "        # for wanted format .png, see also comments above\n",
    "        elif picture_format == \".png\":\n",
    "            Image_path = Image_path.replace(\".jpeg\",\".png\")\n",
    "            im1.save(Image_path)\n",
    "            return statement\n",
    "    # raise error if try: did not work and image path is not valid.\n",
    "    except IOError:\n",
    "        return print(\"Error: Either the given path is wrong or the file is not an .jpeg or .png file\")\n",
    "\n",
    "    \n",
    "\n",
    "    "
   ]
  }
 ],
 "metadata": {
  "kernelspec": {
   "display_name": ".venv",
   "language": "python",
   "name": "python3"
  },
  "language_info": {
   "codemirror_mode": {
    "name": "ipython",
    "version": 3
   },
   "file_extension": ".py",
   "mimetype": "text/x-python",
   "name": "python",
   "nbconvert_exporter": "python",
   "pygments_lexer": "ipython3",
   "version": "3.11.3"
  },
  "orig_nbformat": 4
 },
 "nbformat": 4,
 "nbformat_minor": 2
}
