{
 "cells": [
  {
   "cell_type": "code",
   "execution_count": 21,
   "metadata": {},
   "outputs": [
    {
     "name": "stdout",
     "output_type": "stream",
     "text": [
      "Requirement already satisfied: scikit-learn in /Users/ouzibigouziouzi/.pyenv/versions/3.11.3/lib/python3.11/site-packages (1.3.0)\n",
      "Requirement already satisfied: numpy>=1.17.3 in /Users/ouzibigouziouzi/.pyenv/versions/3.11.3/lib/python3.11/site-packages (from scikit-learn) (1.25.0)\n",
      "Requirement already satisfied: scipy>=1.5.0 in /Users/ouzibigouziouzi/.pyenv/versions/3.11.3/lib/python3.11/site-packages (from scikit-learn) (1.11.1)\n",
      "Requirement already satisfied: joblib>=1.1.1 in /Users/ouzibigouziouzi/.pyenv/versions/3.11.3/lib/python3.11/site-packages (from scikit-learn) (1.3.1)\n",
      "Requirement already satisfied: threadpoolctl>=2.0.0 in /Users/ouzibigouziouzi/.pyenv/versions/3.11.3/lib/python3.11/site-packages (from scikit-learn) (3.1.0)\n",
      "\n",
      "\u001b[1m[\u001b[0m\u001b[34;49mnotice\u001b[0m\u001b[1;39;49m]\u001b[0m\u001b[39;49m A new release of pip available: \u001b[0m\u001b[31;49m22.3.1\u001b[0m\u001b[39;49m -> \u001b[0m\u001b[32;49m23.1.2\u001b[0m\n",
      "\u001b[1m[\u001b[0m\u001b[34;49mnotice\u001b[0m\u001b[1;39;49m]\u001b[0m\u001b[39;49m To update, run: \u001b[0m\u001b[32;49mpip install --upgrade pip\u001b[0m\n"
     ]
    }
   ],
   "source": [
    "!pip install scikit-learn"
   ]
  },
  {
   "cell_type": "code",
   "execution_count": 22,
   "metadata": {},
   "outputs": [
    {
     "name": "stdout",
     "output_type": "stream",
     "text": [
      "Requirement already satisfied: opencv-python in /Users/ouzibigouziouzi/.pyenv/versions/3.11.3/lib/python3.11/site-packages (4.8.0.74)\n",
      "Requirement already satisfied: numpy>=1.21.2 in /Users/ouzibigouziouzi/.pyenv/versions/3.11.3/lib/python3.11/site-packages (from opencv-python) (1.25.0)\n",
      "\n",
      "\u001b[1m[\u001b[0m\u001b[34;49mnotice\u001b[0m\u001b[1;39;49m]\u001b[0m\u001b[39;49m A new release of pip available: \u001b[0m\u001b[31;49m22.3.1\u001b[0m\u001b[39;49m -> \u001b[0m\u001b[32;49m23.1.2\u001b[0m\n",
      "\u001b[1m[\u001b[0m\u001b[34;49mnotice\u001b[0m\u001b[1;39;49m]\u001b[0m\u001b[39;49m To update, run: \u001b[0m\u001b[32;49mpip install --upgrade pip\u001b[0m\n"
     ]
    }
   ],
   "source": [
    "!pip install opencv-python"
   ]
  },
  {
   "cell_type": "code",
   "execution_count": 36,
   "metadata": {},
   "outputs": [],
   "source": [
    "from tensorflow.keras.models import Sequential\n",
    "from tensorflow.keras.layers import Conv2D, MaxPooling2D, Flatten, Dropout, UpSampling2D,concatenate, Dense\n",
    "import numpy as np\n",
    "from sklearn.preprocessing import MinMaxScaler\n",
    "from tensorflow.keras.utils import to_categorical\n",
    "import os\n",
    "import cv2\n",
    "from sklearn.model_selection import train_test_split\n",
    "import tensorflow as tf\n",
    "from tensorflow.keras.models import Model\n",
    "from tensorflow.keras.optimizers import Adam\n",
    "\n"
   ]
  },
  {
   "cell_type": "code",
   "execution_count": 37,
   "metadata": {},
   "outputs": [
    {
     "name": "stdout",
     "output_type": "stream",
     "text": [
      "Found 282 files belonging to 4 classes.\n",
      "Using 226 files for training.\n",
      "Found 282 files belonging to 4 classes.\n",
      "Using 56 files for validation.\n"
     ]
    }
   ],
   "source": [
    "# Define the directory path containing the images\n",
    "data_directory = \"/Users/ouzibigouziouzi/Desktop/FNNPK\"\n",
    "batch_size = 32\n",
    "image_size = (200,200)\n",
    "data = tf.keras.utils.image_dataset_from_directory(\n",
    "    data_directory,\n",
    "    batch_size=batch_size,\n",
    "    image_size = image_size,\n",
    "    shuffle=True,\n",
    "    seed=42,\n",
    "    validation_split=0.2,\n",
    "    subset=\"training\")\n",
    "val_data = tf.keras.utils.image_dataset_from_directory(\n",
    "    data_directory,\n",
    "    batch_size=batch_size,\n",
    "    image_size=image_size,\n",
    "    shuffle=True,\n",
    "    seed=42,\n",
    "    validation_split=0.2,\n",
    "    subset=\"validation\"\n",
    ")\n"
   ]
  },
  {
   "cell_type": "code",
   "execution_count": 38,
   "metadata": {},
   "outputs": [
    {
     "name": "stdout",
     "output_type": "stream",
     "text": [
      "Class names: ['deficiency_nitrogen', 'deficiency_phosphorus', 'deficiency_potassium', 'healthy']\n"
     ]
    }
   ],
   "source": [
    "# Print the class names\n",
    "class_names = data.class_names\n",
    "print(\"Class names:\", class_names)\n"
   ]
  },
  {
   "cell_type": "code",
   "execution_count": 26,
   "metadata": {},
   "outputs": [],
   "source": [
    "# Convert labels to NumPy arrays\n",
    "#X_train = np.concatenate([x for x, _ in data], axis=0)\n",
    "#y_train = np.concatenate([y for _, y in data], axis=0)\n"
   ]
  },
  {
   "cell_type": "code",
   "execution_count": 27,
   "metadata": {},
   "outputs": [],
   "source": [
    "# Convert labels to one-hot encoded format\n",
    "# y_train = to_categorical(y_train, num_classes=4)"
   ]
  },
  {
   "cell_type": "code",
   "execution_count": 39,
   "metadata": {},
   "outputs": [
    {
     "name": "stdout",
     "output_type": "stream",
     "text": [
      "Model: \"sequential_2\"\n",
      "_________________________________________________________________\n",
      " Layer (type)                Output Shape              Param #   \n",
      "=================================================================\n",
      " conv2d_6 (Conv2D)           (None, 198, 198, 16)      448       \n",
      "                                                                 \n",
      " max_pooling2d_6 (MaxPoolin  (None, 99, 99, 16)        0         \n",
      " g2D)                                                            \n",
      "                                                                 \n",
      " conv2d_7 (Conv2D)           (None, 97, 97, 32)        4640      \n",
      "                                                                 \n",
      " max_pooling2d_7 (MaxPoolin  (None, 48, 48, 32)        0         \n",
      " g2D)                                                            \n",
      "                                                                 \n",
      " conv2d_8 (Conv2D)           (None, 46, 46, 64)        18496     \n",
      "                                                                 \n",
      " max_pooling2d_8 (MaxPoolin  (None, 23, 23, 64)        0         \n",
      " g2D)                                                            \n",
      "                                                                 \n",
      " flatten_2 (Flatten)         (None, 33856)             0         \n",
      "                                                                 \n",
      " dense_4 (Dense)             (None, 128)               4333696   \n",
      "                                                                 \n",
      " dense_5 (Dense)             (None, 4)                 516       \n",
      "                                                                 \n",
      "=================================================================\n",
      "Total params: 4357796 (16.62 MB)\n",
      "Trainable params: 4357796 (16.62 MB)\n",
      "Non-trainable params: 0 (0.00 Byte)\n",
      "_________________________________________________________________\n"
     ]
    }
   ],
   "source": [
    "model = tf.keras.Sequential([\n",
    "    Conv2D(16, (3, 3), activation='relu', input_shape=(200, 200, 3)),\n",
    "    MaxPooling2D((2, 2)),\n",
    "    Conv2D(32, (3, 3), activation='relu'),\n",
    "    MaxPooling2D((2, 2)),\n",
    "    Conv2D(64, (3, 3), activation='relu'),\n",
    "    MaxPooling2D((2, 2)),\n",
    "    Flatten(),\n",
    "    Dense(128, activation='relu', kernel_regularizer=regularizers.l2(0.01)),\n",
    "    Dense(4, activation='softmax')\n",
    "])\n",
    "\n",
    "\n",
    "# Compile the model\n",
    "model.compile(optimizer='adam',\n",
    "              loss=tf.keras.losses.SparseCategoricalCrossentropy(),\n",
    "              metrics=['accuracy'])\n",
    "\n",
    "# Print the model summary\n",
    "model.summary()"
   ]
  },
  {
   "cell_type": "code",
   "execution_count": 40,
   "metadata": {},
   "outputs": [
    {
     "name": "stdout",
     "output_type": "stream",
     "text": [
      "Epoch 1/11\n",
      "8/8 [==============================] - 4s 222ms/step - loss: 297.3485 - accuracy: 0.2699 - val_loss: 5.5328 - val_accuracy: 0.4643\n",
      "Epoch 2/11\n",
      "8/8 [==============================] - 3s 215ms/step - loss: 4.4542 - accuracy: 0.5133 - val_loss: 3.8663 - val_accuracy: 0.4643\n",
      "Epoch 3/11\n",
      "8/8 [==============================] - 3s 199ms/step - loss: 3.5213 - accuracy: 0.6814 - val_loss: 3.7884 - val_accuracy: 0.4643\n",
      "Epoch 4/11\n",
      "8/8 [==============================] - 3s 194ms/step - loss: 3.3084 - accuracy: 0.8009 - val_loss: 3.7152 - val_accuracy: 0.5714\n",
      "Epoch 5/11\n",
      "8/8 [==============================] - 2s 190ms/step - loss: 2.9886 - accuracy: 0.9248 - val_loss: 5.6098 - val_accuracy: 0.4643\n",
      "Epoch 6/11\n",
      "8/8 [==============================] - 3s 196ms/step - loss: 2.9679 - accuracy: 0.9027 - val_loss: 3.9553 - val_accuracy: 0.5000\n",
      "Epoch 7/11\n",
      "8/8 [==============================] - 2s 194ms/step - loss: 2.7220 - accuracy: 0.9823 - val_loss: 4.5100 - val_accuracy: 0.5536\n",
      "Epoch 8/11\n",
      "8/8 [==============================] - 3s 230ms/step - loss: 2.6585 - accuracy: 0.9867 - val_loss: 3.6089 - val_accuracy: 0.5536\n",
      "Epoch 9/11\n",
      "8/8 [==============================] - 3s 217ms/step - loss: 2.5843 - accuracy: 0.9912 - val_loss: 3.7509 - val_accuracy: 0.6250\n",
      "Epoch 10/11\n",
      "8/8 [==============================] - 3s 205ms/step - loss: 2.5176 - accuracy: 1.0000 - val_loss: 3.7297 - val_accuracy: 0.6250\n",
      "Epoch 11/11\n",
      "8/8 [==============================] - 3s 198ms/step - loss: 2.4605 - accuracy: 1.0000 - val_loss: 3.4825 - val_accuracy: 0.6964\n"
     ]
    },
    {
     "data": {
      "text/plain": [
       "<keras.src.callbacks.History at 0x28cdd1990>"
      ]
     },
     "execution_count": 40,
     "metadata": {},
     "output_type": "execute_result"
    }
   ],
   "source": [
    "# Train the model\n",
    "model.fit(data, validation_data= val_data, epochs=11)"
   ]
  },
  {
   "cell_type": "code",
   "execution_count": 32,
   "metadata": {},
   "outputs": [],
   "source": [
    "# Convert labels to one-hot encoded format\n",
    "#y_val = to_categorical(y_val, num_classes=4)"
   ]
  },
  {
   "cell_type": "code",
   "execution_count": 41,
   "metadata": {},
   "outputs": [
    {
     "name": "stdout",
     "output_type": "stream",
     "text": [
      "2/2 [==============================] - 0s 43ms/step - loss: 3.4825 - accuracy: 0.6964\n",
      "Validation Loss: 3.482459545135498\n",
      "Validation Accuracy: 0.6964285969734192\n"
     ]
    }
   ],
   "source": [
    "# Evaluate the model on the validation data\n",
    "val_loss, val_accuracy = model.evaluate(val_data)\n",
    "print(\"Validation Loss:\", val_loss)\n",
    "print(\"Validation Accuracy:\", val_accuracy)"
   ]
  },
  {
   "cell_type": "code",
   "execution_count": 35,
   "metadata": {},
   "outputs": [
    {
     "name": "stdout",
     "output_type": "stream",
     "text": [
      "Requirement already satisfied: scikeras in /Users/ouzibigouziouzi/.pyenv/versions/3.11.3/lib/python3.11/site-packages (0.11.0)\n",
      "Requirement already satisfied: grpcio<1.50.0 in /Users/ouzibigouziouzi/.pyenv/versions/3.11.3/lib/python3.11/site-packages (from scikeras) (1.49.1)\n",
      "Requirement already satisfied: packaging>=0.21 in /Users/ouzibigouziouzi/.pyenv/versions/3.11.3/lib/python3.11/site-packages (from scikeras) (23.1)\n",
      "Requirement already satisfied: scikit-learn>=1.0.0 in /Users/ouzibigouziouzi/.pyenv/versions/3.11.3/lib/python3.11/site-packages (from scikeras) (1.3.0)\n",
      "Requirement already satisfied: six>=1.5.2 in /Users/ouzibigouziouzi/.pyenv/versions/3.11.3/lib/python3.11/site-packages (from grpcio<1.50.0->scikeras) (1.16.0)\n",
      "Requirement already satisfied: numpy>=1.17.3 in /Users/ouzibigouziouzi/.pyenv/versions/3.11.3/lib/python3.11/site-packages (from scikit-learn>=1.0.0->scikeras) (1.25.0)\n",
      "Requirement already satisfied: scipy>=1.5.0 in /Users/ouzibigouziouzi/.pyenv/versions/3.11.3/lib/python3.11/site-packages (from scikit-learn>=1.0.0->scikeras) (1.11.1)\n",
      "Requirement already satisfied: joblib>=1.1.1 in /Users/ouzibigouziouzi/.pyenv/versions/3.11.3/lib/python3.11/site-packages (from scikit-learn>=1.0.0->scikeras) (1.3.1)\n",
      "Requirement already satisfied: threadpoolctl>=2.0.0 in /Users/ouzibigouziouzi/.pyenv/versions/3.11.3/lib/python3.11/site-packages (from scikit-learn>=1.0.0->scikeras) (3.1.0)\n",
      "\n",
      "\u001b[1m[\u001b[0m\u001b[34;49mnotice\u001b[0m\u001b[1;39;49m]\u001b[0m\u001b[39;49m A new release of pip available: \u001b[0m\u001b[31;49m22.3.1\u001b[0m\u001b[39;49m -> \u001b[0m\u001b[32;49m23.1.2\u001b[0m\n",
      "\u001b[1m[\u001b[0m\u001b[34;49mnotice\u001b[0m\u001b[1;39;49m]\u001b[0m\u001b[39;49m To update, run: \u001b[0m\u001b[32;49mpip install --upgrade pip\u001b[0m\n"
     ]
    }
   ],
   "source": [
    "!pip install scikeras"
   ]
  }
 ],
 "metadata": {
  "kernelspec": {
   "display_name": "Python 3",
   "language": "python",
   "name": "python3"
  },
  "language_info": {
   "codemirror_mode": {
    "name": "ipython",
    "version": 3
   },
   "file_extension": ".py",
   "mimetype": "text/x-python",
   "name": "python",
   "nbconvert_exporter": "python",
   "pygments_lexer": "ipython3",
   "version": "3.11.3"
  },
  "orig_nbformat": 4
 },
 "nbformat": 4,
 "nbformat_minor": 2
}
