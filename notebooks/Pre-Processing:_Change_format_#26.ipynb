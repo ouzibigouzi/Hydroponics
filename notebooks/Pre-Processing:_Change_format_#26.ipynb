{
 "cells": [
  {
   "cell_type": "code",
   "execution_count": 3,
   "metadata": {},
   "outputs": [
    {
     "name": "stdout",
     "output_type": "stream",
     "text": [
      "\n",
      "\u001b[1m[\u001b[0m\u001b[34;49mnotice\u001b[0m\u001b[1;39;49m]\u001b[0m\u001b[39;49m A new release of pip available: \u001b[0m\u001b[31;49m22.3.1\u001b[0m\u001b[39;49m -> \u001b[0m\u001b[32;49m23.1.2\u001b[0m\n",
      "\u001b[1m[\u001b[0m\u001b[34;49mnotice\u001b[0m\u001b[1;39;49m]\u001b[0m\u001b[39;49m To update, run: \u001b[0m\u001b[32;49mpip install --upgrade pip\u001b[0m\n",
      "Note: you may need to restart the kernel to use updated packages.\n"
     ]
    }
   ],
   "source": [
    "import os \n",
    "import sys \n",
    "%pip install Pillow | grep -v 'already satisfied'\n",
    "from PIL import Image\n"
   ]
  },
  {
   "cell_type": "code",
   "execution_count": null,
   "metadata": {},
   "outputs": [],
   "source": [
    "# def change_format(Image_path, picture_format):\n",
    "#     statement = f\"The image stored in {str(Image_path)} has been changed to the {str(picture_format)} format.\"\n",
    "#     \"\"\"\n",
    "#     Function that changes the image format. It takes the image path and the desired format as input. It can only switch .png and .jpeg files, others will raise an error.\n",
    "#     \"\"\"\n",
    "#     # example call: change_format(\"/Users/XX/Desktop/Screenshot 2023-06-23 at 15.18.03.jpeg\", \".png\")\n",
    "\n",
    "#     # installs the PIL package if not already there. This adds image processing capabilities (see also https://pypi.org/project/Pillow/, doc: https://pillow.readthedocs.io/en/stable/reference/Image.html)\n",
    "#     # the grep -v command hides the output stating that the packaged is already there\n",
    "#     %pip install Pillow | grep -v 'already satisfied'\n",
    "#     from PIL import Image\n",
    "\n",
    "#     #check if input is a valid image path by checking if try: Image.open() works, otherwise the except below raises an error.\n",
    "#     try:\n",
    "#         #open the specified image\n",
    "#         im1 = Image.open(Image_path)\n",
    "#         # wanted output explanation, comment out if necessary\n",
    "\n",
    "#         # if picture_format == \".jpeg\" or picture_format == \".jpg\":\n",
    "#         #     if \".jpeg\" in Image_path:\n",
    "#         if Image_path.split(\".\")[-1] == \"jpeg\" or Image_path.split(\".\")[-1] == \"jpg\":\n",
    "#                 return \"The file is already in .jpeg / .jpg format\"\n",
    "#             # the file ending in the path is replaced\n",
    "#         else:\n",
    "#             Image_path = Image_path.replace(\".png\",\".jpeg\")\n",
    "#             #the image has to be converted to RGB as JPG does not support transparency (RGBA from png format, A is transparency)\n",
    "#             im1 = im1.convert('RGB')\n",
    "#             #file is saved in updated file path\n",
    "#             im1.save(Image_path)\n",
    "#             return statement\n",
    "#         # for wanted format .png, see also comments above\n",
    "#         elif picture_format == \".png\":\n",
    "#             Image_path = Image_path.replace(\".jpeg\",\".png\")\n",
    "#             im1.save(Image_path)\n",
    "#             return statement\n",
    "#     # raise error if try: did not work and image path is not valid.\n",
    "#     except IOError:\n",
    "#         return print(\"Error: Either the given path is wrong or the file is not an .jpeg or .png file\")\n"
   ]
  },
  {
   "cell_type": "code",
   "execution_count": 25,
   "metadata": {},
   "outputs": [],
   "source": [
    "\"\"\"\n",
    "Function that changes the image format. It takes the image path and the desired format as input. It can only switch .png and .jpeg files, others will raise an error.\n",
    "\"\"\"\n",
    "# example call: change_format(\"/Users/XX/Desktop/Screenshot 2023-06-23 at 15.18.03.jpeg\", \".png\")\n",
    "    \n",
    "\"\"\" installs the PIL package if not already there. This adds image processing capabilities \n",
    "(see also https://pypi.org/project/Pillow/, doc: https://pillow.readthedocs.io/en/stable/reference/Image.html)\n",
    "the grep -v command hides the output stating that the packaged is already there\"\"\"\n",
    "%pip install Pillow  > /dev/null 2>&1  #!This will redirect both stdout (standard output) and stderr (standard error) to null, effectively suppressing all output from the command.\n",
    "\n",
    "\n",
    "import os\n",
    "from PIL import Image\n",
    "\n",
    "def change_format(folder_path, picture_format, keep=True):\n",
    "    # Loop over each file in the directory\n",
    "    for filename in os.listdir(folder_path):\n",
    "        # Check if the file is an image\n",
    "        if filename.lower().endswith(('.png', '.jpg', '.jpeg')):\n",
    "            file, dot, file_ending = filename.rpartition(\".\")\n",
    "            image_path = os.path.join(folder_path, filename)\n",
    "            \n",
    "            # Open the image\n",
    "            try:\n",
    "                im1 = Image.open(image_path)\n",
    "            except IOError:\n",
    "                print(f\"Error: Cannot open {filename}. Skipping...\")\n",
    "                continue\n",
    "\n",
    "            # Check if the image is already in the desired format\n",
    "            if file_ending.lower() in picture_format.lower():\n",
    "                print(f\"The file {filename} is already in {picture_format} format\")\n",
    "                continue\n",
    "\n",
    "            # Convert and save the image\n",
    "            if file_ending.lower() == \"png\" and picture_format.lower() in (\"jpeg\", \"jpg\", \".jpeg\", \".jpg\"):\n",
    "                file_ending = picture_format\n",
    "                im1 = im1.convert('RGB') \n",
    "            elif file_ending.lower() in (\"jpeg\", \"jpg\", \".jpeg\", \".jpg\") and picture_format.lower() in (\".png\", \"png\"):\n",
    "                file_ending = picture_format\n",
    "                im1 = im1.convert('RGBA') \n",
    "\n",
    "            new_filename = file + \".\" + file_ending\n",
    "            new_filepath = os.path.join(folder_path, new_filename)\n",
    "            im1.save(new_filepath)\n",
    "\n",
    "            if not keep:\n",
    "                os.remove(image_path) \n",
    "\n",
    "            print(f\"The image {filename} has been changed to the {file_ending} format.\")\n",
    "        else:\n",
    "            print(f\"{filename} is not an image file. Skipping...\")\n"
   ]
  }
 ],
 "metadata": {
  "kernelspec": {
   "display_name": ".venv",
   "language": "python",
   "name": "python3"
  },
  "language_info": {
   "codemirror_mode": {
    "name": "ipython",
    "version": 3
   },
   "file_extension": ".py",
   "mimetype": "text/x-python",
   "name": "python",
   "nbconvert_exporter": "python",
   "pygments_lexer": "ipython3",
   "version": "3.11.3"
  },
  "orig_nbformat": 4
 },
 "nbformat": 4,
 "nbformat_minor": 2
}
