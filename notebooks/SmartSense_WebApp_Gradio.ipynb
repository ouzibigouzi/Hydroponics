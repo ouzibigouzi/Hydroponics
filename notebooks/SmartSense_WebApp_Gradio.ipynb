{
 "cells": [
  {
   "cell_type": "code",
   "execution_count": 1,
   "metadata": {},
   "outputs": [
    {
     "name": "stdout",
     "output_type": "stream",
     "text": [
      "Requirement already satisfied: gradio in /Users/ouzibigouziouzi/.pyenv/versions/3.11.3/lib/python3.11/site-packages (3.36.1)\n",
      "Requirement already satisfied: aiofiles in /Users/ouzibigouziouzi/.pyenv/versions/3.11.3/lib/python3.11/site-packages (from gradio) (23.1.0)\n",
      "Requirement already satisfied: aiohttp in /Users/ouzibigouziouzi/.pyenv/versions/3.11.3/lib/python3.11/site-packages (from gradio) (3.8.4)\n",
      "Requirement already satisfied: altair>=4.2.0 in /Users/ouzibigouziouzi/.pyenv/versions/3.11.3/lib/python3.11/site-packages (from gradio) (5.0.1)\n",
      "Requirement already satisfied: fastapi in /Users/ouzibigouziouzi/.pyenv/versions/3.11.3/lib/python3.11/site-packages (from gradio) (0.100.0)\n",
      "Requirement already satisfied: ffmpy in /Users/ouzibigouziouzi/.pyenv/versions/3.11.3/lib/python3.11/site-packages (from gradio) (0.3.1)\n",
      "Requirement already satisfied: gradio-client>=0.2.7 in /Users/ouzibigouziouzi/.pyenv/versions/3.11.3/lib/python3.11/site-packages (from gradio) (0.2.9)\n",
      "Requirement already satisfied: httpx in /Users/ouzibigouziouzi/.pyenv/versions/3.11.3/lib/python3.11/site-packages (from gradio) (0.24.1)\n",
      "Requirement already satisfied: huggingface-hub>=0.14.0 in /Users/ouzibigouziouzi/.pyenv/versions/3.11.3/lib/python3.11/site-packages (from gradio) (0.16.4)\n",
      "Requirement already satisfied: jinja2 in /Users/ouzibigouziouzi/.pyenv/versions/3.11.3/lib/python3.11/site-packages (from gradio) (3.1.2)\n",
      "Requirement already satisfied: markdown-it-py[linkify]>=2.0.0 in /Users/ouzibigouziouzi/.pyenv/versions/3.11.3/lib/python3.11/site-packages (from gradio) (2.2.0)\n",
      "Requirement already satisfied: markupsafe in /Users/ouzibigouziouzi/.pyenv/versions/3.11.3/lib/python3.11/site-packages (from gradio) (2.1.3)\n",
      "Requirement already satisfied: matplotlib in /Users/ouzibigouziouzi/.pyenv/versions/3.11.3/lib/python3.11/site-packages (from gradio) (3.7.1)\n",
      "Requirement already satisfied: mdit-py-plugins<=0.3.3 in /Users/ouzibigouziouzi/.pyenv/versions/3.11.3/lib/python3.11/site-packages (from gradio) (0.3.3)\n",
      "Requirement already satisfied: numpy in /Users/ouzibigouziouzi/.pyenv/versions/3.11.3/lib/python3.11/site-packages (from gradio) (1.25.0)\n",
      "Requirement already satisfied: orjson in /Users/ouzibigouziouzi/.pyenv/versions/3.11.3/lib/python3.11/site-packages (from gradio) (3.9.2)\n",
      "Requirement already satisfied: pandas in /Users/ouzibigouziouzi/.pyenv/versions/3.11.3/lib/python3.11/site-packages (from gradio) (2.0.3)\n",
      "Requirement already satisfied: pillow in /Users/ouzibigouziouzi/.pyenv/versions/3.11.3/lib/python3.11/site-packages (from gradio) (10.0.0)\n",
      "Requirement already satisfied: pydantic in /Users/ouzibigouziouzi/.pyenv/versions/3.11.3/lib/python3.11/site-packages (from gradio) (2.0.3)\n",
      "Requirement already satisfied: pydub in /Users/ouzibigouziouzi/.pyenv/versions/3.11.3/lib/python3.11/site-packages (from gradio) (0.25.1)\n",
      "Requirement already satisfied: pygments>=2.12.0 in /Users/ouzibigouziouzi/.pyenv/versions/3.11.3/lib/python3.11/site-packages (from gradio) (2.15.1)\n",
      "Requirement already satisfied: python-multipart in /Users/ouzibigouziouzi/.pyenv/versions/3.11.3/lib/python3.11/site-packages (from gradio) (0.0.6)\n",
      "Requirement already satisfied: pyyaml in /Users/ouzibigouziouzi/.pyenv/versions/3.11.3/lib/python3.11/site-packages (from gradio) (6.0)\n",
      "Requirement already satisfied: requests in /Users/ouzibigouziouzi/.pyenv/versions/3.11.3/lib/python3.11/site-packages (from gradio) (2.31.0)\n",
      "Requirement already satisfied: semantic-version in /Users/ouzibigouziouzi/.pyenv/versions/3.11.3/lib/python3.11/site-packages (from gradio) (2.10.0)\n",
      "Requirement already satisfied: uvicorn>=0.14.0 in /Users/ouzibigouziouzi/.pyenv/versions/3.11.3/lib/python3.11/site-packages (from gradio) (0.23.0)\n",
      "Requirement already satisfied: websockets>=10.0 in /Users/ouzibigouziouzi/.pyenv/versions/3.11.3/lib/python3.11/site-packages (from gradio) (11.0.3)\n",
      "Requirement already satisfied: jsonschema>=3.0 in /Users/ouzibigouziouzi/.pyenv/versions/3.11.3/lib/python3.11/site-packages (from altair>=4.2.0->gradio) (4.18.3)\n",
      "Requirement already satisfied: toolz in /Users/ouzibigouziouzi/.pyenv/versions/3.11.3/lib/python3.11/site-packages (from altair>=4.2.0->gradio) (0.12.0)\n",
      "Requirement already satisfied: fsspec in /Users/ouzibigouziouzi/.pyenv/versions/3.11.3/lib/python3.11/site-packages (from gradio-client>=0.2.7->gradio) (2023.6.0)\n",
      "Requirement already satisfied: packaging in /Users/ouzibigouziouzi/.pyenv/versions/3.11.3/lib/python3.11/site-packages (from gradio-client>=0.2.7->gradio) (23.1)\n",
      "Requirement already satisfied: typing-extensions in /Users/ouzibigouziouzi/.pyenv/versions/3.11.3/lib/python3.11/site-packages (from gradio-client>=0.2.7->gradio) (4.7.1)\n",
      "Requirement already satisfied: filelock in /Users/ouzibigouziouzi/.pyenv/versions/3.11.3/lib/python3.11/site-packages (from huggingface-hub>=0.14.0->gradio) (3.12.2)\n",
      "Requirement already satisfied: tqdm>=4.42.1 in /Users/ouzibigouziouzi/.pyenv/versions/3.11.3/lib/python3.11/site-packages (from huggingface-hub>=0.14.0->gradio) (4.65.0)\n",
      "Requirement already satisfied: mdurl~=0.1 in /Users/ouzibigouziouzi/.pyenv/versions/3.11.3/lib/python3.11/site-packages (from markdown-it-py[linkify]>=2.0.0->gradio) (0.1.2)\n",
      "Requirement already satisfied: linkify-it-py<3,>=1 in /Users/ouzibigouziouzi/.pyenv/versions/3.11.3/lib/python3.11/site-packages (from markdown-it-py[linkify]>=2.0.0->gradio) (2.0.2)\n",
      "Requirement already satisfied: python-dateutil>=2.8.2 in /Users/ouzibigouziouzi/.pyenv/versions/3.11.3/lib/python3.11/site-packages (from pandas->gradio) (2.8.2)\n",
      "Requirement already satisfied: pytz>=2020.1 in /Users/ouzibigouziouzi/.pyenv/versions/3.11.3/lib/python3.11/site-packages (from pandas->gradio) (2023.3)\n",
      "Requirement already satisfied: tzdata>=2022.1 in /Users/ouzibigouziouzi/.pyenv/versions/3.11.3/lib/python3.11/site-packages (from pandas->gradio) (2023.3)\n",
      "Requirement already satisfied: click>=7.0 in /Users/ouzibigouziouzi/.pyenv/versions/3.11.3/lib/python3.11/site-packages (from uvicorn>=0.14.0->gradio) (8.1.5)\n",
      "Requirement already satisfied: h11>=0.8 in /Users/ouzibigouziouzi/.pyenv/versions/3.11.3/lib/python3.11/site-packages (from uvicorn>=0.14.0->gradio) (0.14.0)\n",
      "Requirement already satisfied: attrs>=17.3.0 in /Users/ouzibigouziouzi/.pyenv/versions/3.11.3/lib/python3.11/site-packages (from aiohttp->gradio) (23.1.0)\n",
      "Requirement already satisfied: charset-normalizer<4.0,>=2.0 in /Users/ouzibigouziouzi/.pyenv/versions/3.11.3/lib/python3.11/site-packages (from aiohttp->gradio) (3.1.0)\n",
      "Requirement already satisfied: multidict<7.0,>=4.5 in /Users/ouzibigouziouzi/.pyenv/versions/3.11.3/lib/python3.11/site-packages (from aiohttp->gradio) (6.0.4)\n",
      "Requirement already satisfied: async-timeout<5.0,>=4.0.0a3 in /Users/ouzibigouziouzi/.pyenv/versions/3.11.3/lib/python3.11/site-packages (from aiohttp->gradio) (4.0.2)\n",
      "Requirement already satisfied: yarl<2.0,>=1.0 in /Users/ouzibigouziouzi/.pyenv/versions/3.11.3/lib/python3.11/site-packages (from aiohttp->gradio) (1.9.2)\n",
      "Requirement already satisfied: frozenlist>=1.1.1 in /Users/ouzibigouziouzi/.pyenv/versions/3.11.3/lib/python3.11/site-packages (from aiohttp->gradio) (1.4.0)\n",
      "Requirement already satisfied: aiosignal>=1.1.2 in /Users/ouzibigouziouzi/.pyenv/versions/3.11.3/lib/python3.11/site-packages (from aiohttp->gradio) (1.3.1)\n",
      "Requirement already satisfied: starlette<0.28.0,>=0.27.0 in /Users/ouzibigouziouzi/.pyenv/versions/3.11.3/lib/python3.11/site-packages (from fastapi->gradio) (0.27.0)\n",
      "Requirement already satisfied: annotated-types>=0.4.0 in /Users/ouzibigouziouzi/.pyenv/versions/3.11.3/lib/python3.11/site-packages (from pydantic->gradio) (0.5.0)\n",
      "Requirement already satisfied: pydantic-core==2.3.0 in /Users/ouzibigouziouzi/.pyenv/versions/3.11.3/lib/python3.11/site-packages (from pydantic->gradio) (2.3.0)\n",
      "Requirement already satisfied: certifi in /Users/ouzibigouziouzi/.pyenv/versions/3.11.3/lib/python3.11/site-packages (from httpx->gradio) (2023.5.7)\n",
      "Requirement already satisfied: httpcore<0.18.0,>=0.15.0 in /Users/ouzibigouziouzi/.pyenv/versions/3.11.3/lib/python3.11/site-packages (from httpx->gradio) (0.17.3)\n",
      "Requirement already satisfied: idna in /Users/ouzibigouziouzi/.pyenv/versions/3.11.3/lib/python3.11/site-packages (from httpx->gradio) (3.4)\n",
      "Requirement already satisfied: sniffio in /Users/ouzibigouziouzi/.pyenv/versions/3.11.3/lib/python3.11/site-packages (from httpx->gradio) (1.3.0)\n",
      "Requirement already satisfied: contourpy>=1.0.1 in /Users/ouzibigouziouzi/.pyenv/versions/3.11.3/lib/python3.11/site-packages (from matplotlib->gradio) (1.1.0)\n",
      "Requirement already satisfied: cycler>=0.10 in /Users/ouzibigouziouzi/.pyenv/versions/3.11.3/lib/python3.11/site-packages (from matplotlib->gradio) (0.11.0)\n",
      "Requirement already satisfied: fonttools>=4.22.0 in /Users/ouzibigouziouzi/.pyenv/versions/3.11.3/lib/python3.11/site-packages (from matplotlib->gradio) (4.40.0)\n",
      "Requirement already satisfied: kiwisolver>=1.0.1 in /Users/ouzibigouziouzi/.pyenv/versions/3.11.3/lib/python3.11/site-packages (from matplotlib->gradio) (1.4.4)\n",
      "Requirement already satisfied: pyparsing>=2.3.1 in /Users/ouzibigouziouzi/.pyenv/versions/3.11.3/lib/python3.11/site-packages (from matplotlib->gradio) (3.1.0)\n",
      "Requirement already satisfied: urllib3<3,>=1.21.1 in /Users/ouzibigouziouzi/.pyenv/versions/3.11.3/lib/python3.11/site-packages (from requests->gradio) (1.26.16)\n",
      "Requirement already satisfied: anyio<5.0,>=3.0 in /Users/ouzibigouziouzi/.pyenv/versions/3.11.3/lib/python3.11/site-packages (from httpcore<0.18.0,>=0.15.0->httpx->gradio) (3.7.1)\n",
      "Requirement already satisfied: jsonschema-specifications>=2023.03.6 in /Users/ouzibigouziouzi/.pyenv/versions/3.11.3/lib/python3.11/site-packages (from jsonschema>=3.0->altair>=4.2.0->gradio) (2023.6.1)\n",
      "Requirement already satisfied: referencing>=0.28.4 in /Users/ouzibigouziouzi/.pyenv/versions/3.11.3/lib/python3.11/site-packages (from jsonschema>=3.0->altair>=4.2.0->gradio) (0.29.1)\n",
      "Requirement already satisfied: rpds-py>=0.7.1 in /Users/ouzibigouziouzi/.pyenv/versions/3.11.3/lib/python3.11/site-packages (from jsonschema>=3.0->altair>=4.2.0->gradio) (0.8.10)\n",
      "Requirement already satisfied: uc-micro-py in /Users/ouzibigouziouzi/.pyenv/versions/3.11.3/lib/python3.11/site-packages (from linkify-it-py<3,>=1->markdown-it-py[linkify]>=2.0.0->gradio) (1.0.2)\n",
      "Requirement already satisfied: six>=1.5 in /Users/ouzibigouziouzi/.pyenv/versions/3.11.3/lib/python3.11/site-packages (from python-dateutil>=2.8.2->pandas->gradio) (1.16.0)\n",
      "\n",
      "\u001b[1m[\u001b[0m\u001b[34;49mnotice\u001b[0m\u001b[1;39;49m]\u001b[0m\u001b[39;49m A new release of pip available: \u001b[0m\u001b[31;49m22.3.1\u001b[0m\u001b[39;49m -> \u001b[0m\u001b[32;49m23.2\u001b[0m\n",
      "\u001b[1m[\u001b[0m\u001b[34;49mnotice\u001b[0m\u001b[1;39;49m]\u001b[0m\u001b[39;49m To update, run: \u001b[0m\u001b[32;49mpip install --upgrade pip\u001b[0m\n"
     ]
    }
   ],
   "source": [
    "!pip install gradio"
   ]
  },
  {
   "cell_type": "code",
   "execution_count": 2,
   "metadata": {},
   "outputs": [
    {
     "name": "stderr",
     "output_type": "stream",
     "text": [
      "/Users/ouzibigouziouzi/.pyenv/versions/3.11.3/lib/python3.11/site-packages/tqdm/auto.py:21: TqdmWarning: IProgress not found. Please update jupyter and ipywidgets. See https://ipywidgets.readthedocs.io/en/stable/user_install.html\n",
      "  from .autonotebook import tqdm as notebook_tqdm\n"
     ]
    }
   ],
   "source": [
    "import gradio as gr\n",
    "import numpy as np"
   ]
  },
  {
   "cell_type": "code",
   "execution_count": 3,
   "metadata": {},
   "outputs": [],
   "source": [
    "def predict_image(img):\n",
    "    img_d=np.array(img).reshape(50,50)\n",
    "    prediction=Modelv2.predict(img_d)[0]\n",
    "    return {class_names[i]: float(prediction[i]) for i in range[4]}"
   ]
  },
  {
   "cell_type": "code",
   "execution_count": 4,
   "metadata": {},
   "outputs": [
    {
     "name": "stderr",
     "output_type": "stream",
     "text": [
      "/var/folders/y2/t6bw962x70q2268c4_0wg5t80000gn/T/ipykernel_45104/22861624.py:1: GradioDeprecationWarning: Usage of gradio.inputs is deprecated, and will not be supported in the future, please import your component from gradio.components\n",
      "  image= gr.inputs.Image(shape=(50,50))\n",
      "/var/folders/y2/t6bw962x70q2268c4_0wg5t80000gn/T/ipykernel_45104/22861624.py:1: GradioDeprecationWarning: `optional` parameter is deprecated, and it has no effect\n",
      "  image= gr.inputs.Image(shape=(50,50))\n",
      "/var/folders/y2/t6bw962x70q2268c4_0wg5t80000gn/T/ipykernel_45104/22861624.py:2: GradioDeprecationWarning: Usage of gradio.outputs is deprecated, and will not be supported in the future, please import your components from gradio.components\n",
      "  label= gr.outputs.Label(num_top_classes=4)\n",
      "/var/folders/y2/t6bw962x70q2268c4_0wg5t80000gn/T/ipykernel_45104/22861624.py:2: GradioUnusedKwargWarning: You have unused kwarg parameters in Label, please remove them: {'type': 'auto'}\n",
      "  label= gr.outputs.Label(num_top_classes=4)\n"
     ]
    },
    {
     "name": "stdout",
     "output_type": "stream",
     "text": [
      "Running on local URL:  http://127.0.0.1:7860\n",
      "\n",
      "To create a public link, set `share=True` in `launch()`.\n"
     ]
    },
    {
     "data": {
      "text/html": [
       "<div><iframe src=\"http://127.0.0.1:7860/\" width=\"100%\" height=\"500\" allow=\"autoplay; camera; microphone; clipboard-read; clipboard-write;\" frameborder=\"0\" allowfullscreen></iframe></div>"
      ],
      "text/plain": [
       "<IPython.core.display.HTML object>"
      ]
     },
     "metadata": {},
     "output_type": "display_data"
    },
    {
     "name": "stderr",
     "output_type": "stream",
     "text": [
      "Traceback (most recent call last):\n",
      "  File \"/Users/ouzibigouziouzi/.pyenv/versions/3.11.3/lib/python3.11/site-packages/gradio/routes.py\", line 439, in run_predict\n",
      "    output = await app.get_blocks().process_api(\n",
      "             ^^^^^^^^^^^^^^^^^^^^^^^^^^^^^^^^^^^\n",
      "  File \"/Users/ouzibigouziouzi/.pyenv/versions/3.11.3/lib/python3.11/site-packages/gradio/blocks.py\", line 1384, in process_api\n",
      "    result = await self.call_function(\n",
      "             ^^^^^^^^^^^^^^^^^^^^^^^^^\n",
      "  File \"/Users/ouzibigouziouzi/.pyenv/versions/3.11.3/lib/python3.11/site-packages/gradio/blocks.py\", line 1089, in call_function\n",
      "    prediction = await anyio.to_thread.run_sync(\n",
      "                 ^^^^^^^^^^^^^^^^^^^^^^^^^^^^^^^\n",
      "  File \"/Users/ouzibigouziouzi/.pyenv/versions/3.11.3/lib/python3.11/site-packages/anyio/to_thread.py\", line 33, in run_sync\n",
      "    return await get_asynclib().run_sync_in_worker_thread(\n",
      "           ^^^^^^^^^^^^^^^^^^^^^^^^^^^^^^^^^^^^^^^^^^^^^^^\n",
      "  File \"/Users/ouzibigouziouzi/.pyenv/versions/3.11.3/lib/python3.11/site-packages/anyio/_backends/_asyncio.py\", line 877, in run_sync_in_worker_thread\n",
      "    return await future\n",
      "           ^^^^^^^^^^^^\n",
      "  File \"/Users/ouzibigouziouzi/.pyenv/versions/3.11.3/lib/python3.11/site-packages/anyio/_backends/_asyncio.py\", line 807, in run\n",
      "    result = context.run(func, *args)\n",
      "             ^^^^^^^^^^^^^^^^^^^^^^^^\n",
      "  File \"/Users/ouzibigouziouzi/.pyenv/versions/3.11.3/lib/python3.11/site-packages/gradio/utils.py\", line 700, in wrapper\n",
      "    response = f(*args, **kwargs)\n",
      "               ^^^^^^^^^^^^^^^^^^\n",
      "  File \"/var/folders/y2/t6bw962x70q2268c4_0wg5t80000gn/T/ipykernel_45104/818485590.py\", line 2, in predict_image\n",
      "    img_d=img.reshape(50,50)\n",
      "          ^^^^^^^^^^^^^^^^^^\n",
      "ValueError: cannot reshape array of size 7500 into shape (50,50)\n",
      "Traceback (most recent call last):\n",
      "  File \"/Users/ouzibigouziouzi/.pyenv/versions/3.11.3/lib/python3.11/site-packages/gradio/routes.py\", line 439, in run_predict\n",
      "    output = await app.get_blocks().process_api(\n",
      "             ^^^^^^^^^^^^^^^^^^^^^^^^^^^^^^^^^^^\n",
      "  File \"/Users/ouzibigouziouzi/.pyenv/versions/3.11.3/lib/python3.11/site-packages/gradio/blocks.py\", line 1384, in process_api\n",
      "    result = await self.call_function(\n",
      "             ^^^^^^^^^^^^^^^^^^^^^^^^^\n",
      "  File \"/Users/ouzibigouziouzi/.pyenv/versions/3.11.3/lib/python3.11/site-packages/gradio/blocks.py\", line 1089, in call_function\n",
      "    prediction = await anyio.to_thread.run_sync(\n",
      "                 ^^^^^^^^^^^^^^^^^^^^^^^^^^^^^^^\n",
      "  File \"/Users/ouzibigouziouzi/.pyenv/versions/3.11.3/lib/python3.11/site-packages/anyio/to_thread.py\", line 33, in run_sync\n",
      "    return await get_asynclib().run_sync_in_worker_thread(\n",
      "           ^^^^^^^^^^^^^^^^^^^^^^^^^^^^^^^^^^^^^^^^^^^^^^^\n",
      "  File \"/Users/ouzibigouziouzi/.pyenv/versions/3.11.3/lib/python3.11/site-packages/anyio/_backends/_asyncio.py\", line 877, in run_sync_in_worker_thread\n",
      "    return await future\n",
      "           ^^^^^^^^^^^^\n",
      "  File \"/Users/ouzibigouziouzi/.pyenv/versions/3.11.3/lib/python3.11/site-packages/anyio/_backends/_asyncio.py\", line 807, in run\n",
      "    result = context.run(func, *args)\n",
      "             ^^^^^^^^^^^^^^^^^^^^^^^^\n",
      "  File \"/Users/ouzibigouziouzi/.pyenv/versions/3.11.3/lib/python3.11/site-packages/gradio/utils.py\", line 700, in wrapper\n",
      "    response = f(*args, **kwargs)\n",
      "               ^^^^^^^^^^^^^^^^^^\n",
      "  File \"/var/folders/y2/t6bw962x70q2268c4_0wg5t80000gn/T/ipykernel_45104/818485590.py\", line 2, in predict_image\n",
      "    img_d=img.reshape(50,50)\n",
      "          ^^^^^^^^^^^^^^^^^^\n",
      "ValueError: cannot reshape array of size 7500 into shape (50,50)\n",
      "Traceback (most recent call last):\n",
      "  File \"/Users/ouzibigouziouzi/.pyenv/versions/3.11.3/lib/python3.11/site-packages/gradio/routes.py\", line 439, in run_predict\n",
      "    output = await app.get_blocks().process_api(\n",
      "             ^^^^^^^^^^^^^^^^^^^^^^^^^^^^^^^^^^^\n",
      "  File \"/Users/ouzibigouziouzi/.pyenv/versions/3.11.3/lib/python3.11/site-packages/gradio/blocks.py\", line 1384, in process_api\n",
      "    result = await self.call_function(\n",
      "             ^^^^^^^^^^^^^^^^^^^^^^^^^\n",
      "  File \"/Users/ouzibigouziouzi/.pyenv/versions/3.11.3/lib/python3.11/site-packages/gradio/blocks.py\", line 1089, in call_function\n",
      "    prediction = await anyio.to_thread.run_sync(\n",
      "                 ^^^^^^^^^^^^^^^^^^^^^^^^^^^^^^^\n",
      "  File \"/Users/ouzibigouziouzi/.pyenv/versions/3.11.3/lib/python3.11/site-packages/anyio/to_thread.py\", line 33, in run_sync\n",
      "    return await get_asynclib().run_sync_in_worker_thread(\n",
      "           ^^^^^^^^^^^^^^^^^^^^^^^^^^^^^^^^^^^^^^^^^^^^^^^\n",
      "  File \"/Users/ouzibigouziouzi/.pyenv/versions/3.11.3/lib/python3.11/site-packages/anyio/_backends/_asyncio.py\", line 877, in run_sync_in_worker_thread\n",
      "    return await future\n",
      "           ^^^^^^^^^^^^\n",
      "  File \"/Users/ouzibigouziouzi/.pyenv/versions/3.11.3/lib/python3.11/site-packages/anyio/_backends/_asyncio.py\", line 807, in run\n",
      "    result = context.run(func, *args)\n",
      "             ^^^^^^^^^^^^^^^^^^^^^^^^\n",
      "  File \"/Users/ouzibigouziouzi/.pyenv/versions/3.11.3/lib/python3.11/site-packages/gradio/utils.py\", line 700, in wrapper\n",
      "    response = f(*args, **kwargs)\n",
      "               ^^^^^^^^^^^^^^^^^^\n",
      "  File \"/var/folders/y2/t6bw962x70q2268c4_0wg5t80000gn/T/ipykernel_45104/818485590.py\", line 2, in predict_image\n",
      "    img_d=img.reshape(50,50)\n",
      "          ^^^^^^^^^^^\n",
      "AttributeError: 'NoneType' object has no attribute 'reshape'\n",
      "Traceback (most recent call last):\n",
      "  File \"/Users/ouzibigouziouzi/.pyenv/versions/3.11.3/lib/python3.11/site-packages/gradio/routes.py\", line 439, in run_predict\n",
      "    output = await app.get_blocks().process_api(\n",
      "             ^^^^^^^^^^^^^^^^^^^^^^^^^^^^^^^^^^^\n",
      "  File \"/Users/ouzibigouziouzi/.pyenv/versions/3.11.3/lib/python3.11/site-packages/gradio/blocks.py\", line 1384, in process_api\n",
      "    result = await self.call_function(\n",
      "             ^^^^^^^^^^^^^^^^^^^^^^^^^\n",
      "  File \"/Users/ouzibigouziouzi/.pyenv/versions/3.11.3/lib/python3.11/site-packages/gradio/blocks.py\", line 1089, in call_function\n",
      "    prediction = await anyio.to_thread.run_sync(\n",
      "                 ^^^^^^^^^^^^^^^^^^^^^^^^^^^^^^^\n",
      "  File \"/Users/ouzibigouziouzi/.pyenv/versions/3.11.3/lib/python3.11/site-packages/anyio/to_thread.py\", line 33, in run_sync\n",
      "    return await get_asynclib().run_sync_in_worker_thread(\n",
      "           ^^^^^^^^^^^^^^^^^^^^^^^^^^^^^^^^^^^^^^^^^^^^^^^\n",
      "  File \"/Users/ouzibigouziouzi/.pyenv/versions/3.11.3/lib/python3.11/site-packages/anyio/_backends/_asyncio.py\", line 877, in run_sync_in_worker_thread\n",
      "    return await future\n",
      "           ^^^^^^^^^^^^\n",
      "  File \"/Users/ouzibigouziouzi/.pyenv/versions/3.11.3/lib/python3.11/site-packages/anyio/_backends/_asyncio.py\", line 807, in run\n",
      "    result = context.run(func, *args)\n",
      "             ^^^^^^^^^^^^^^^^^^^^^^^^\n",
      "  File \"/Users/ouzibigouziouzi/.pyenv/versions/3.11.3/lib/python3.11/site-packages/gradio/utils.py\", line 700, in wrapper\n",
      "    response = f(*args, **kwargs)\n",
      "               ^^^^^^^^^^^^^^^^^^\n",
      "  File \"/var/folders/y2/t6bw962x70q2268c4_0wg5t80000gn/T/ipykernel_45104/818485590.py\", line 2, in predict_image\n",
      "    img_d=img.reshape(50,50)\n",
      "          ^^^^^^^^^^^\n",
      "AttributeError: 'NoneType' object has no attribute 'reshape'\n"
     ]
    },
    {
     "name": "stdout",
     "output_type": "stream",
     "text": [
      "Keyboard interruption in main thread... closing server.\n"
     ]
    },
    {
     "data": {
      "text/plain": []
     },
     "execution_count": 4,
     "metadata": {},
     "output_type": "execute_result"
    }
   ],
   "source": [
    "image= gr.inputs.Image(shape=(50,50))\n",
    "label= gr.outputs.Label(num_top_classes=4)\n",
    "\n",
    "# Load your company logo using gr.Interface's 'logo' parameter\n",
    "#company_logo = \"/Users/ouzibigouziouzi/Downloads/LOGO.png\"\n",
    "description = \"Upload an image and get the predicted class.\"\n",
    "gr.Interface(fn=predict_image, inputs= image, outputs= label, live= True , title=\"SmartSense AgroTech\", description= description ).launch(debug='True')\n"
   ]
  }
 ],
 "metadata": {
  "kernelspec": {
   "display_name": "Python 3",
   "language": "python",
   "name": "python3"
  },
  "language_info": {
   "codemirror_mode": {
    "name": "ipython",
    "version": 3
   },
   "file_extension": ".py",
   "mimetype": "text/x-python",
   "name": "python",
   "nbconvert_exporter": "python",
   "pygments_lexer": "ipython3",
   "version": "3.11.3"
  },
  "orig_nbformat": 4
 },
 "nbformat": 4,
 "nbformat_minor": 2
}
