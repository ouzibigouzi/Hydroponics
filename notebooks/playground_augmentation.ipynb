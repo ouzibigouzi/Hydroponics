{
 "cells": [
  {
   "cell_type": "code",
   "execution_count": 2,
   "metadata": {},
   "outputs": [],
   "source": [
    "# %%\n",
    "import os\n",
    "\n",
    "from PIL import Image\n",
    "import IPython.display as display\n",
    "\n",
    "\n",
    "\n",
    "from tensorflow.keras.preprocessing.image import ImageDataGenerator\n",
    "\n",
    "from tensorflow.keras.losses import SparseCategoricalCrossentropy\n",
    "\n",
    "import preprocessing as prep"
   ]
  },
  {
   "cell_type": "code",
   "execution_count": 3,
   "metadata": {},
   "outputs": [],
   "source": [
    "imdir= \"/Users/richardwang/Documents/Hydroponics/original_dataset/\""
   ]
  },
  {
   "cell_type": "code",
   "execution_count": 4,
   "metadata": {},
   "outputs": [
    {
     "name": "stdout",
     "output_type": "stream",
     "text": [
      "Found 226 images belonging to 5 classes.\n"
     ]
    }
   ],
   "source": [
    "''' Multiclass augmentation. Read and augment dirctly from the folder structure using flow_from_directory '''\n",
    "\n",
    "datagen= ImageDataGenerator(\n",
    "    rotation_range=135,\n",
    "    width_shift_range=0.2,\n",
    "    height_shift_range=0.2,\n",
    "    horizontal_flip=True,\n",
    "    shear_range = 0.05,\n",
    "    zoom_range = 0.5,\n",
    "    rescale= 1./255,\n",
    "    # brightness_range =  (0.0,1),\n",
    "    fill_mode=\"constant\", cval = 0, # cval is the value used for points outside the boundaries when fill_mode is \"constant\"\n",
    "                                        #* besides \"constant\" there are \"nearest\", \"reflect\" and \"wrap\". the fill_mode is used when the image is augmented and the size of the image changes\n",
    "    )\n",
    "\n",
    "\n",
    "i = 0\n",
    "if not os.path.exists(os.path.join(imdir,'augmented')):\n",
    "    os.mkdir(os.path.join(imdir,'augmented'))\n",
    "else: pass   # we crate a new folder 'augmented' to save the augmented images\n",
    "for batch in datagen.flow_from_directory(directory=imdir, \n",
    "                                         batch_size=40,  \n",
    "                                         target_size=(256, 256),\n",
    "                                         color_mode=\"rgb\",\n",
    "                                         save_to_dir= os.path.join(imdir,'augmented'),\n",
    "                                         save_prefix='aug', # need to change this to bear the old file name with the prefix 'aug'\n",
    "                                         save_format='png'):\n",
    "    \n",
    "    i += 1\n",
    "    if i > 3:\n",
    "        break \n"
   ]
  },
  {
   "cell_type": "code",
   "execution_count": null,
   "metadata": {},
   "outputs": [],
   "source": [
    "from tensorflow.keras.preprocessing.image import load_img, img_to_array\n",
    "\n",
    "''' in this section we can see how to use the ImageDataGenerator to augment the images. \n",
    "Use it as playground to see how the images are affected by the different parameters\n",
    "This cell will create 20 augmented images based on one given image and save them in the same directory as the original image\n",
    "'''\n",
    "datagen= ImageDataGenerator(\n",
    "    rotation_range=135,\n",
    "    width_shift_range=0.2,\n",
    "    height_shift_range=0.2,\n",
    "    horizontal_flip=True,\n",
    "    shear_range = 0.05,\n",
    "    zoom_range = 0.5,\n",
    "    rescale= 1./255,\n",
    "    # brightness_range =  (0.0,1),\n",
    "    fill_mode=\"constant\", # cval is the value used for points outside the boundaries when fill_mode is \"constant\"\n",
    "    )\n",
    "\n",
    "#* we define the (single) imagefile we want to augment\n",
    "imagefile = \"/Users/richardwang/Documents/Hydroponics/original_dataset/deficiency_nitrogen/hydroponics_lettuce_N_09.png\"\n",
    "\n",
    "\n",
    "\n",
    "x = load_img(imagefile)\n",
    "\n",
    "# Load the image and convert it to an array\n",
    "x = load_img(imagefile)\n",
    "x = img_to_array(x)\n",
    "\n",
    "\n",
    "\n",
    "if not os.path.exists(os.path.join(imdir,'augmented')):\n",
    "    os.mkdir(os.path.join(imdir,'augmented'))\n",
    "\n",
    "x = x.reshape((1,) + x.shape) #we reshape the image to (1, 256, 256, 3) to fit the input of the model\n",
    "i = 0\n",
    "for batch in datagen.flow(x, batch_size=16,\n",
    "                          save_to_dir= os.path.join(input_dir, 'augmented'),\n",
    "                            save_prefix='aug', save_format='png'):\n",
    "    i += 1\n",
    "    if i > 20:\n",
    "        break   \n",
    "\n"
   ]
  }
 ],
 "metadata": {
  "kernelspec": {
   "display_name": "Python 3",
   "language": "python",
   "name": "python3"
  },
  "language_info": {
   "codemirror_mode": {
    "name": "ipython",
    "version": 3
   },
   "file_extension": ".py",
   "mimetype": "text/x-python",
   "name": "python",
   "nbconvert_exporter": "python",
   "pygments_lexer": "ipython3",
   "version": "3.11.3"
  },
  "orig_nbformat": 4
 },
 "nbformat": 4,
 "nbformat_minor": 2
}
